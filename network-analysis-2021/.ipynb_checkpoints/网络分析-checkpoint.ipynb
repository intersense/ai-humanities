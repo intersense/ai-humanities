{
 "cells": [
  {
   "cell_type": "markdown",
   "id": "241c9950",
   "metadata": {
    "slideshow": {
     "slide_type": "slide"
    }
   },
   "source": [
    "## 网络/图(Network/Graph)\n",
    "建模互相之间有关系的实体所使用的一项表达形式。\n",
    "- 网络由两类对象构成：\n",
    "    - 节点（Node）：表示实体\n",
    "    - 边（Edge）：表示实体之间的关系\n",
    "- 复杂网络：节点和边还有各自的属性（Attributes）或特征（Features）\n",
    "    - 以代表人的节点为例：属性一般包括年龄、身高、体重、性别、工资等\n",
    "    - 以“朋友”所代表人与人之间的关系为例：属性可能包括什么时候开始成为朋友，上次见面的时间等"
   ]
  },
  {
   "cell_type": "markdown",
   "id": "f6561557",
   "metadata": {
    "slideshow": {
     "slide_type": "slide"
    }
   },
   "source": [
    "## 课程参考的数据与方法\n",
    "https://towardsdatascience.com/visualizing-networks-in-python-d70f4cbeb259\n",
    "\n",
    "- 数据\n",
    "权力的游戏（Game of Throne, GoT) 社会网络的表格数据见下表，网络的节点表示GoT中的角色人物，网络的边表示两个角色之间的关系，关系的确定是根据书中人物的名字在15个连续的单词序列中是否出现，如果出现则表示两个人物有共现关系，否则没有共现关系。\n",
    "\n",
    "表中前两列是节点，一对源（Source）和目标（Target）节点表示两个人物之间的关联关系。GoT第一册按照上述网络构建的方法，共有187个角色（节点），684条边（人物之间的关系，表中的行数）。Weight列表示边的**权重**，表示两个角色名字的共现次数。为了让网络可控，计算的快一些，我们只考虑较强的关联关系，即weight>10，表示只保留共同出现超过10次的角色之间的关系（边），其他的边去掉。\n",
    "\n",
    "剩余的网络：\n",
    "- 80个节点（角色人物）\n",
    "- 175条边 （人物共现关系）\n",
    "\n",
    "<img src='./images/game-of-throne-social-network.png'></img>"
   ]
  },
  {
   "cell_type": "code",
   "execution_count": 13,
   "id": "54cfe8a8",
   "metadata": {
    "slideshow": {
     "slide_type": "slide"
    }
   },
   "outputs": [],
   "source": [
    "import pandas as pd\n",
    "import networkx as nx\n",
    "import matplotlib.pyplot as plt\n",
    "%matplotlib inline"
   ]
  },
  {
   "cell_type": "code",
   "execution_count": 14,
   "id": "beca5a03",
   "metadata": {},
   "outputs": [
    {
     "data": {
      "text/html": [
       "<div>\n",
       "<style scoped>\n",
       "    .dataframe tbody tr th:only-of-type {\n",
       "        vertical-align: middle;\n",
       "    }\n",
       "\n",
       "    .dataframe tbody tr th {\n",
       "        vertical-align: top;\n",
       "    }\n",
       "\n",
       "    .dataframe thead th {\n",
       "        text-align: right;\n",
       "    }\n",
       "</style>\n",
       "<table border=\"1\" class=\"dataframe\">\n",
       "  <thead>\n",
       "    <tr style=\"text-align: right;\">\n",
       "      <th></th>\n",
       "      <th>Source</th>\n",
       "      <th>Target</th>\n",
       "      <th>Type</th>\n",
       "      <th>weight</th>\n",
       "      <th>book</th>\n",
       "    </tr>\n",
       "  </thead>\n",
       "  <tbody>\n",
       "    <tr>\n",
       "      <th>8</th>\n",
       "      <td>Aemon-Targaryen-(Maester-Aemon)</td>\n",
       "      <td>Jeor-Mormont</td>\n",
       "      <td>Undirected</td>\n",
       "      <td>13</td>\n",
       "      <td>1</td>\n",
       "    </tr>\n",
       "    <tr>\n",
       "      <th>9</th>\n",
       "      <td>Aemon-Targaryen-(Maester-Aemon)</td>\n",
       "      <td>Jon-Snow</td>\n",
       "      <td>Undirected</td>\n",
       "      <td>34</td>\n",
       "      <td>1</td>\n",
       "    </tr>\n",
       "    <tr>\n",
       "      <th>16</th>\n",
       "      <td>Aerys-II-Targaryen</td>\n",
       "      <td>Robert-Baratheon</td>\n",
       "      <td>Undirected</td>\n",
       "      <td>12</td>\n",
       "      <td>1</td>\n",
       "    </tr>\n",
       "    <tr>\n",
       "      <th>17</th>\n",
       "      <td>Aggo</td>\n",
       "      <td>Daenerys-Targaryen</td>\n",
       "      <td>Undirected</td>\n",
       "      <td>11</td>\n",
       "      <td>1</td>\n",
       "    </tr>\n",
       "    <tr>\n",
       "      <th>30</th>\n",
       "      <td>Alliser-Thorne</td>\n",
       "      <td>Jon-Snow</td>\n",
       "      <td>Undirected</td>\n",
       "      <td>32</td>\n",
       "      <td>1</td>\n",
       "    </tr>\n",
       "    <tr>\n",
       "      <th>...</th>\n",
       "      <td>...</td>\n",
       "      <td>...</td>\n",
       "      <td>...</td>\n",
       "      <td>...</td>\n",
       "      <td>...</td>\n",
       "    </tr>\n",
       "    <tr>\n",
       "      <th>658</th>\n",
       "      <td>Sandor-Clegane</td>\n",
       "      <td>Sansa-Stark</td>\n",
       "      <td>Undirected</td>\n",
       "      <td>23</td>\n",
       "      <td>1</td>\n",
       "    </tr>\n",
       "    <tr>\n",
       "      <th>664</th>\n",
       "      <td>Shae</td>\n",
       "      <td>Tyrion-Lannister</td>\n",
       "      <td>Undirected</td>\n",
       "      <td>12</td>\n",
       "      <td>1</td>\n",
       "    </tr>\n",
       "    <tr>\n",
       "      <th>666</th>\n",
       "      <td>Shagga</td>\n",
       "      <td>Tyrion-Lannister</td>\n",
       "      <td>Undirected</td>\n",
       "      <td>17</td>\n",
       "      <td>1</td>\n",
       "    </tr>\n",
       "    <tr>\n",
       "      <th>676</th>\n",
       "      <td>Tyrion-Lannister</td>\n",
       "      <td>Tywin-Lannister</td>\n",
       "      <td>Undirected</td>\n",
       "      <td>40</td>\n",
       "      <td>1</td>\n",
       "    </tr>\n",
       "    <tr>\n",
       "      <th>683</th>\n",
       "      <td>Waymar-Royce</td>\n",
       "      <td>Will-(prologue)</td>\n",
       "      <td>Undirected</td>\n",
       "      <td>18</td>\n",
       "      <td>1</td>\n",
       "    </tr>\n",
       "  </tbody>\n",
       "</table>\n",
       "<p>175 rows × 5 columns</p>\n",
       "</div>"
      ],
      "text/plain": [
       "                              Source              Target        Type  weight  \\\n",
       "8    Aemon-Targaryen-(Maester-Aemon)        Jeor-Mormont  Undirected      13   \n",
       "9    Aemon-Targaryen-(Maester-Aemon)            Jon-Snow  Undirected      34   \n",
       "16                Aerys-II-Targaryen    Robert-Baratheon  Undirected      12   \n",
       "17                              Aggo  Daenerys-Targaryen  Undirected      11   \n",
       "30                    Alliser-Thorne            Jon-Snow  Undirected      32   \n",
       "..                               ...                 ...         ...     ...   \n",
       "658                   Sandor-Clegane         Sansa-Stark  Undirected      23   \n",
       "664                             Shae    Tyrion-Lannister  Undirected      12   \n",
       "666                           Shagga    Tyrion-Lannister  Undirected      17   \n",
       "676                 Tyrion-Lannister     Tywin-Lannister  Undirected      40   \n",
       "683                     Waymar-Royce     Will-(prologue)  Undirected      18   \n",
       "\n",
       "     book  \n",
       "8       1  \n",
       "9       1  \n",
       "16      1  \n",
       "17      1  \n",
       "30      1  \n",
       "..    ...  \n",
       "658     1  \n",
       "664     1  \n",
       "666     1  \n",
       "676     1  \n",
       "683     1  \n",
       "\n",
       "[175 rows x 5 columns]"
      ]
     },
     "execution_count": 14,
     "metadata": {},
     "output_type": "execute_result"
    }
   ],
   "source": [
    "# load data\n",
    "df = pd.read_csv(\"data/book1.csv\")\n",
    "# pick only important weights (hard threshold)\n",
    "df = df.loc[df['weight']>10, :]\n",
    "df"
   ]
  },
  {
   "cell_type": "markdown",
   "id": "b078438a",
   "metadata": {
    "slideshow": {
     "slide_type": "slide"
    }
   },
   "source": [
    "## Python中的网络分析工具\n",
    "1. NetworkX\n",
    "2. PyVis\n",
    "3. Visdcc in Dash\n",
    "4. Jaal\n"
   ]
  },
  {
   "cell_type": "markdown",
   "id": "edbb3bd5",
   "metadata": {
    "slideshow": {
     "slide_type": "slide"
    }
   },
   "source": [
    "### NetworkX网络分析展示\n",
    "<img src=\"./images/networkx.png\"></img>"
   ]
  },
  {
   "cell_type": "code",
   "execution_count": 15,
   "id": "04a33a60",
   "metadata": {},
   "outputs": [
    {
     "name": "stdout",
     "output_type": "stream",
     "text": [
      "No of unique characters: 80\n",
      "No of connections: 175\n"
     ]
    }
   ],
   "source": [
    "# import\n",
    "import networkx as nx\n",
    "# load pandas df as networkx graph\n",
    "G = nx.from_pandas_edgelist(df, \n",
    "                            source='Source', \n",
    "                            target='Target', \n",
    "                            edge_attr='weight')\n",
    "print(\"No of unique characters:\", len(G.nodes))\n",
    "print(\"No of connections:\", len(G.edges))"
   ]
  },
  {
   "cell_type": "code",
   "execution_count": 16,
   "id": "c249665d",
   "metadata": {},
   "outputs": [
    {
     "data": {
      "image/png": "[encoded data removed]",
      "text/plain": [
       "<Figure size 800x600 with 1 Axes>"
      ]
     },
     "metadata": {},
     "output_type": "display_data"
    }
   ],
   "source": [
    "# all graph options\n",
    "graphs_viz_options = [nx.draw, nx.draw_networkx, nx.draw_circular, nx.draw_kamada_kawai, nx.draw_random, nx.draw_shell, nx.draw_spring]\n",
    "\n",
    "# plot graph option\n",
    "selected_graph_option = 0\n",
    "\n",
    "# plot\n",
    "plt.figure(figsize=(8,6), dpi=100) \n",
    "graphs_viz_options[selected_graph_option](G)"
   ]
  },
  {
   "cell_type": "markdown",
   "id": "b3bc0d56",
   "metadata": {
    "slideshow": {
     "slide_type": "slide"
    }
   },
   "source": [
    "### PyVis\n",
    "\n",
    "https://pyvis.readthedocs.io/en/latest/\n",
    "\n",
    "<img src=\"./images/pyvis.gif\"></img>"
   ]
  },
  {
   "cell_type": "markdown",
   "id": "badf1e8b",
   "metadata": {
    "slideshow": {
     "slide_type": "slide"
    }
   },
   "source": [
    "### Visdcc in Dash\n",
    "<img src=\"./images/bash.gif\"></img>"
   ]
  },
  {
   "cell_type": "markdown",
   "id": "4d0eb2cd",
   "metadata": {},
   "source": [
    "## Jaal\n",
    "<img src=\"./images/jaal.png\"></img>"
   ]
  },
  {
   "cell_type": "code",
   "execution_count": null,
   "id": "67a8cf51",
   "metadata": {
    "slideshow": {
     "slide_type": "slide"
    }
   },
   "outputs": [],
   "source": [
    "from jaal import Jaal\n",
    "from jaal.datasets import load_got\n",
    "# load the data\n",
    "edge_df, node_df = load_got()\n",
    "# init Jaal and run server\n",
    "Jaal(edge_df, node_df).plot()"
   ]
  },
  {
   "cell_type": "code",
   "execution_count": null,
   "id": "ab2b3cc9",
   "metadata": {},
   "outputs": [],
   "source": []
  }
 ],
 "metadata": {
  "celltoolbar": "幻灯片",
  "kernelspec": {
   "display_name": "Python 3 (ipykernel)",
   "language": "python",
   "name": "python3"
  },
  "language_info": {
   "codemirror_mode": {
    "name": "ipython",
    "version": 3
   },
   "file_extension": ".py",
   "mimetype": "text/x-python",
   "name": "python",
   "nbconvert_exporter": "python",
   "pygments_lexer": "ipython3",
   "version": "3.9.5"
  },
  "rise": {
   "scroll": true,
   "theme": "serif",
   "transition": "zoom"
  }
 },
 "nbformat": 4,
 "nbformat_minor": 5
}
