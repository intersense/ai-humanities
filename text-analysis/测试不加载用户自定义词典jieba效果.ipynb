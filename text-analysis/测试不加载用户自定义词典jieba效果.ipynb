{
 "cells": [
  {
   "cell_type": "code",
   "execution_count": 5,
   "id": "b4fda98c",
   "metadata": {},
   "outputs": [
    {
     "name": "stderr",
     "output_type": "stream",
     "text": [
      "Paddle enabled successfully......\n"
     ]
    },
    {
     "name": "stdout",
     "output_type": "stream",
     "text": [
      "Paddle Mode: 我/来到/北京清华大学\n",
      "Paddle Mode: 乒乓球/拍卖/完/了\n",
      "Paddle Mode: 中国科学技术大学\n",
      "Paddle Mode: 清滕天绶纂修天绶/辽阳/人荫/生由/广东潮州府同知升汉中府/知府\n",
      "Full Mode: 我/ 来到/ 北京/ 清华/ 清华大学/ 华大/ 大学\n",
      "Default Mode: 我/ 来到/ 北京/ 清华大学\n",
      "他, 来到, 了, 网易, 杭研, 大厦\n",
      "小明, 硕士, 毕业, 于, 中国, 科学, 学院, 科学院, 中国科学院, 计算, 计算所, ，, 后, 在, 日本, 京都, 大学, 日本京都大学, 深造\n"
     ]
    }
   ],
   "source": [
    "import jieba\n",
    "import paddle\n",
    "\n",
    "paddle.enable_static()\n",
    "jieba.enable_paddle()# 启动paddle模式。 0.40版之后开始支持，早期版本不支持\n",
    "strs=[\"我来到北京清华大学\",\"乒乓球拍卖完了\",\"中国科学技术大学\", \"清滕天绶纂修天绶辽阳人荫生由广东潮州府同知升汉中府知府\"]\n",
    "for str in strs:\n",
    "    seg_list = jieba.cut(str,use_paddle=True) # 使用paddle模式\n",
    "    print(\"Paddle Mode: \" + '/'.join(list(seg_list)))\n",
    "\n",
    "seg_list = jieba.cut(\"我来到北京清华大学\", cut_all=True)\n",
    "print(\"Full Mode: \" + \"/ \".join(seg_list))  # 全模式\n",
    "\n",
    "seg_list = jieba.cut(\"我来到北京清华大学\", cut_all=False)\n",
    "print(\"Default Mode: \" + \"/ \".join(seg_list))  # 精确模式\n",
    "\n",
    "seg_list = jieba.cut(\"他来到了网易杭研大厦\")  # 默认是精确模式\n",
    "print(\", \".join(seg_list))\n",
    "\n",
    "seg_list = jieba.cut_for_search(\"小明硕士毕业于中国科学院计算所，后在日本京都大学深造\")  # 搜索引擎模式\n",
    "print(\", \".join(seg_list))"
   ]
  },
  {
   "cell_type": "code",
   "execution_count": 9,
   "id": "727cf4ee",
   "metadata": {},
   "outputs": [
    {
     "name": "stdout",
     "output_type": "stream",
     "text": [
      "12366\n",
      "荊州右衛\n",
      "4\n"
     ]
    }
   ],
   "source": [
    "placenames = []\n",
    "with open('./data/placenames.txt', 'r', encoding='utf-8') as f:\n",
    "    txt = f.read()\n",
    "\n",
    "\n",
    "placenames = txt.split('\\n')\n",
    "placenames = placenames[:-1]\n",
    "print(len(placenames))\n",
    "\n",
    "def is_placename(placename):\n",
    "    if placename in placenames:\n",
    "        return True\n",
    "    else:\n",
    "        return False\n",
    "print(placenames[0])\n",
    "print(len(placenames[0]))"
   ]
  },
  {
   "cell_type": "code",
   "execution_count": 12,
   "id": "c435dda3",
   "metadata": {},
   "outputs": [
    {
     "name": "stdout",
     "output_type": "stream",
     "text": [
      "['安康', '寧都', '安康', '鳳山', '鳳翔', '芙蓉', '鳳山']\n"
     ]
    }
   ],
   "source": [
    "#jieba.load_userdict(\"./data/placenames.txt\")\n",
    "#text = '清滕天綬纂修天綬遼陽人蔭生由廣東潮州府同知升漢中府知府漢南即漢中府其名始於秦，至明始置府，領邑十二府志創於明嘉靖二十三年知府張良知修漢中府志十卷清順治十三年知府馮達道又重修府志六卷是編天綬延邑人和鹽鼎採輯順治十三年後三十餘年之事乃合舊志共編為二十四卷卷帙雖大增於前而只補藝文居多事物所增無幾其書體裁總分為六類曰輿地志曰建置志曰食貨志曰秩官志曰人物志曰藝文志輿地志有僭亂歷代得失大略明末流寇記略三篇不入藝文於志例殊若不合餘類亦子目冗雜體例有欠嚴慎'\n",
    "#text= '明呂鵬雲、方時化纂修。鵬云號溟南，直棣東明縣人；明萬歷四十四年進士，授任巨野知縣，官至御史。時化歙縣人，舉人，天啟初任巨野知縣。按舊序《巨野縣志》始於嘉靖丙午知縣江廷藻，萬歷庚寅知縣殷如孝重修。此志為鵬雲增續前志萬歷庚寅後三十餘年之事，纂成此稿，以奉召北上。及時化任邑令取其成帙，仍其體要，以芟削潤色，刻成於天啟癸亥。按此書卷前有天啟三年鵬云及時化二序，書內分方輿、山川、建置、食貨、學校、秩祀、職官、口碑、選舉、人物、列女、藝文、金石、風俗、雜稽十五門，職官、口碑、選舉，間有崇禎時補版。口碑者為宦跡傳，立名偏好詭異。風俗記禮俗人情飲食令節民事甚詳，俾此可考巨野人民明時之風習。按巨野為春秋時魯之武城縣，曾子出生、子游所宰之地。哀公十四年春西狩獲麟於此，孔子往觀之曰：「麟也，胡為乎來哉？」因泣嘆以為不祥。此志古跡載縣境有獲麟塚、麒麟台、瑞嶙寺諸勝跡。'\n",
    "text = \"清趙世震修，汪澤延纂。世震遼東人，康熙間漢陰知縣。澤延漢陰縣人，貢生。考漢陰縣志創於成化十六年知縣張大綸，萬歷四十七年知縣張啟蒙，崇禎十五年知縣張鵬翱，皆有重修。此志為續崇禎十五年後之事而重纂，其志總分輿地、建置、田賦、官師、人物、藝文六門，子目凡三十一，附目七，體例尚為簡核。按輿地沿革謂：「漢陰為漢時安陽縣地，晉改曰安康；北魏改寧都，隋複改安康，唐始名漢陰。」所敘沿革，徵引傍考，不著出處，殊難使信。卷前有八景，首列鳳山疊翠，鳳山即鳳凰山，在縣南若列屏然；東西綿亙二百餘里，宛有鳳翔千仞之勢。輿地山川謂，鳳凰山在縣南二十五里，有峰如鳳因名；山頂有鳳凰池、仙女池。藝文志載陳典《鳳凰山紀》，稱此山上有萬仞芙蓉，朵朵活潑，直逼青天；下有漢水紆迥，淙淙泉石。茲觀此志八景鳳山之圖，及陳典形容之辭，則鳳凰山果不愧為漢陰之名勝也。\"\n",
    "#words2 = [item for item in jieba.cut(text2)]\n",
    "words = [item for item in jieba.cut(text)]\n",
    "places = [p for p in words if is_placename(p)]\n",
    "print(places)"
   ]
  },
  {
   "cell_type": "code",
   "execution_count": null,
   "id": "ee0e93df",
   "metadata": {},
   "outputs": [],
   "source": []
  }
 ],
 "metadata": {
  "kernelspec": {
   "display_name": "Python 3",
   "language": "python",
   "name": "python3"
  },
  "language_info": {
   "codemirror_mode": {
    "name": "ipython",
    "version": 3
   },
   "file_extension": ".py",
   "mimetype": "text/x-python",
   "name": "python",
   "nbconvert_exporter": "python",
   "pygments_lexer": "ipython3",
   "version": "3.9.7"
  },
  "varInspector": {
   "cols": {
    "lenName": 16,
    "lenType": 16,
    "lenVar": 40
   },
   "kernels_config": {
    "python": {
     "delete_cmd_postfix": "",
     "delete_cmd_prefix": "del ",
     "library": "var_list.py",
     "varRefreshCmd": "print(var_dic_list())"
    },
    "r": {
     "delete_cmd_postfix": ") ",
     "delete_cmd_prefix": "rm(",
     "library": "var_list.r",
     "varRefreshCmd": "cat(var_dic_list()) "
    }
   },
   "types_to_exclude": [
    "module",
    "function",
    "builtin_function_or_method",
    "instance",
    "_Feature"
   ],
   "window_display": false
  }
 },
 "nbformat": 4,
 "nbformat_minor": 5
}
