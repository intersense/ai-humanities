{
 "cells": [
  {
   "cell_type": "markdown",
   "id": "21693291",
   "metadata": {},
   "source": [
    "## 生成地名表\n"
   ]
  },
  {
   "cell_type": "code",
   "execution_count": 2,
   "id": "6d3ead11",
   "metadata": {},
   "outputs": [
    {
     "name": "stdout",
     "output_type": "stream",
     "text": [
      "宛平\n"
     ]
    }
   ],
   "source": [
    "import csv\n",
    "\n",
    "placenames = []\n",
    "with open('./data/历史地名-fromCBDB.csv', 'r', encoding='utf-8') as csvfile:\n",
    "    person_reader = csv.DictReader(csvfile, delimiter=',')\n",
    "    for row in person_reader:\n",
    "        placenames.append(row['c_name_chn'])\n",
    "print(placenames[2])"
   ]
  },
  {
   "cell_type": "code",
   "execution_count": 3,
   "id": "1e1897e0",
   "metadata": {},
   "outputs": [
    {
     "data": {
      "text/plain": [
       "51267"
      ]
     },
     "execution_count": 3,
     "metadata": {},
     "output_type": "execute_result"
    }
   ],
   "source": [
    "len(placenames)"
   ]
  },
  {
   "cell_type": "code",
   "execution_count": 4,
   "id": "56a675f2",
   "metadata": {},
   "outputs": [
    {
     "data": {
      "text/plain": [
       "12366"
      ]
     },
     "execution_count": 4,
     "metadata": {},
     "output_type": "execute_result"
    }
   ],
   "source": [
    "placenames = list(set(placenames))\n",
    "len(placenames)"
   ]
  },
  {
   "cell_type": "code",
   "execution_count": 7,
   "id": "d9c507b0",
   "metadata": {},
   "outputs": [],
   "source": [
    "# save nodes to csv\n",
    "\n",
    "with open('./data/placenames.txt', 'w', encoding='utf-8') as f:\n",
    "    for name in placenames:\n",
    "        f.write(f\"{name}\\n\")"
   ]
  },
  {
   "cell_type": "code",
   "execution_count": null,
   "id": "391d85dc",
   "metadata": {},
   "outputs": [],
   "source": []
  }
 ],
 "metadata": {
  "kernelspec": {
   "display_name": "Python 3",
   "language": "python",
   "name": "python3"
  },
  "language_info": {
   "codemirror_mode": {
    "name": "ipython",
    "version": 3
   },
   "file_extension": ".py",
   "mimetype": "text/x-python",
   "name": "python",
   "nbconvert_exporter": "python",
   "pygments_lexer": "ipython3",
   "version": "3.9.7"
  },
  "varInspector": {
   "cols": {
    "lenName": 16,
    "lenType": 16,
    "lenVar": 40
   },
   "kernels_config": {
    "python": {
     "delete_cmd_postfix": "",
     "delete_cmd_prefix": "del ",
     "library": "var_list.py",
     "varRefreshCmd": "print(var_dic_list())"
    },
    "r": {
     "delete_cmd_postfix": ") ",
     "delete_cmd_prefix": "rm(",
     "library": "var_list.r",
     "varRefreshCmd": "cat(var_dic_list()) "
    }
   },
   "types_to_exclude": [
    "module",
    "function",
    "builtin_function_or_method",
    "instance",
    "_Feature"
   ],
   "window_display": false
  }
 },
 "nbformat": 4,
 "nbformat_minor": 5
}
