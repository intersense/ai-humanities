{
 "cells": [
  {
   "cell_type": "markdown",
   "id": "aa4cd458",
   "metadata": {
    "slideshow": {
     "slide_type": "slide"
    }
   },
   "source": [
    "网络/图(Network/Graph)是建模互相之间有关系的实体所使用的一项表达形式。\n",
    "\n",
    "- 网络由两类对象构成：\n",
    "    - 节点（Node）：表示实体\n",
    "    - 边（Edge）：表示实体之间的关系\n",
    "- 复杂网络：节点和边还有各自的属性（Attributes）或特征（Features）\n",
    "    - 以代表人的节点为例：属性一般包括年龄、身高、体重、性别、工资等\n",
    "    - 以“朋友”所代表人与人之间的关系为例：属性可能包括什么时候开始成为朋友，上次见面的时间等"
   ]
  },
  {
   "cell_type": "markdown",
   "id": "df1a24e4",
   "metadata": {
    "slideshow": {
     "slide_type": "slide"
    }
   },
   "source": [
    "## Python中的网络分析工具\n",
    "1. NetworkX\n",
    "2. PyVis\n",
    "3. Visdcc in Dash"
   ]
  },
  {
   "cell_type": "markdown",
   "id": "0d6cf6a7",
   "metadata": {
    "slideshow": {
     "slide_type": "slide"
    }
   },
   "source": [
    "### PyVis\n",
    "<img src=\"./images/pyvis.gif\"></img>"
   ]
  },
  {
   "cell_type": "code",
   "execution_count": null,
   "id": "9ce2685d",
   "metadata": {
    "slideshow": {
     "slide_type": "slide"
    }
   },
   "outputs": [],
   "source": [
    "from jaal import Jaal\n",
    "from jaal.datasets import load_got\n",
    "# load the data\n",
    "edge_df, node_df = load_got()\n",
    "# init Jaal and run server\n",
    "Jaal(edge_df, node_df).plot()"
   ]
  }
 ],
 "metadata": {
  "celltoolbar": "幻灯片",
  "kernelspec": {
   "display_name": "Python 3 (ipykernel)",
   "language": "python",
   "name": "python3"
  },
  "language_info": {
   "codemirror_mode": {
    "name": "ipython",
    "version": 3
   },
   "file_extension": ".py",
   "mimetype": "text/x-python",
   "name": "python",
   "nbconvert_exporter": "python",
   "pygments_lexer": "ipython3",
   "version": "3.9.5"
  }
 },
 "nbformat": 4,
 "nbformat_minor": 5
}
