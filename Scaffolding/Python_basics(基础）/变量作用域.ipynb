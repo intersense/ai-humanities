{
 "cells": [
  {
   "cell_type": "markdown",
   "id": "3a6cb337",
   "metadata": {
    "slideshow": {
     "slide_type": "slide"
    }
   },
   "source": [
    "## 变量的作用域\n",
    "\n",
    "Python中，变量并不是在哪个位置都可以访问的，访问权限决定于这个变量是在哪里赋值的。变量的作用域是由它在源代码中的位置决定的。\n",
    "\n",
    "### 作用域\n",
    "\n",
    "作用域是针对变量而言，指申明的变量在程序里的可应用范围，或者称为变量的可见性。变量的作用域是由它在源代码中的位置决定的。\n",
    "\n",
    "变量的作用域决定了在哪一部分程序可以访问哪个特定的变量名称。\n",
    "\n",
    "#### Python的作用域一共有4种，分别是：\n",
    "\n",
    "1. L （Local） 局部作用域: 在函数被调用时才被创建，但函数返回结果或抛出异常时被删除。（每一个递归函数都拥有自己的命名空间）。\n",
    "2. E （Enclosing） 闭包函数外的函数中\n",
    "3. G （Global） 全局作用域: 在模块被加载时创建，通常一直保留直到python解释器退出。\n",
    "4. B （Built-in） 内建作用域: 在python解释器启动时创建，一直保留直到解释器退出。\n",
    "\n",
    "各命名空间创建顺序：python解释器启动 -> 创建内建命名空间 -> 加载模块 -> 创建全局命名空间 ->函数被调用 -> 创建局部命名空间\n",
    "\n",
    "各命名空间销毁顺序：函数调用结束 -> 销毁函数对应的局部命名空间 -> python虚拟机（解释器）退出 -> 销毁全局命名空间 -> 销毁内建命名空间\n",
    "\n",
    "python解释器加载阶段会创建出内建命名空间、模块的全局命名空间，局部命名空间是在运行阶段函数被调用时动态创建出来的，函数调用结束动态的销毁的。\n",
    "\n",
    "Python以 L –> E –> G –>B 的规则查找，即：在局部找不到，便会去局部外的局部找（例如闭包），再找不到就会去全局找，再者去内建中找。\n",
    "\n",
    "x = int(2.9)  # 内建作用域\n",
    " \n",
    "g_count = 0  # 全局作用域\n",
    "def outer():\n",
    "    o_count = 1  # 闭包函数外的函数中\n",
    "    def inner():\n",
    "        i_count = 2  # 局部作用域\n",
    "\n",
    "定义在函数内部的变量拥有一个局部作用域，定义在函数外的拥有全局作用域。\n",
    "\n",
    "Python 中只有模块（module），类（class）以及函数（def、lambda）才会引入新的作用域，其它的代码块（如 if/elif/else/、try/except、for/while等）是不会引入新的作用域的，也就是说这这些语句内定义的变量，外部也可以访问。\n"
   ]
  },
  {
   "cell_type": "code",
   "execution_count": 10,
   "id": "be31fa56",
   "metadata": {
    "scrolled": true,
    "slideshow": {
     "slide_type": "slide"
    }
   },
   "outputs": [
    {
     "name": "stdout",
     "output_type": "stream",
     "text": [
      "102\n"
     ]
    }
   ],
   "source": [
    "a = 100\n",
    "\n",
    "# 定义函数\n",
    "def change_a():\n",
    "    global a\n",
    "    a += 2\n",
    "\n",
    "# 调用函数\n",
    "change_a()\n",
    "\n",
    "print(a)"
   ]
  },
  {
   "cell_type": "code",
   "execution_count": 2,
   "id": "461dfd14",
   "metadata": {},
   "outputs": [
    {
     "name": "stdout",
     "output_type": "stream",
     "text": [
      "100\n"
     ]
    }
   ],
   "source": [
    "a = 100\n",
    "\n",
    "# 定义函数\n",
    "def change_a(a):\n",
    "    a += 2\n",
    "\n",
    "# 调用函数\n",
    "change_a(a)\n",
    "print(a)"
   ]
  },
  {
   "cell_type": "code",
   "execution_count": null,
   "id": "4fd1e459",
   "metadata": {},
   "outputs": [],
   "source": [
    "a = 100\n",
    "\n",
    "# 定义函数\n",
    "def change_a(a1):\n",
    "    \n",
    "    a1 += 2\n",
    "\n",
    "# 调用函数\n",
    "change_a(a)\n",
    "print(a)"
   ]
  },
  {
   "cell_type": "markdown",
   "id": "7c9add3b",
   "metadata": {
    "slideshow": {
     "slide_type": "slide"
    }
   },
   "source": [
    "## 函数的定义与使用\n",
    "\n",
    "函数参数\n",
    "\n",
    "- 意义\n",
    "    - 定义时\n",
    "    - 调用时\n",
    "- 作用范围\n"
   ]
  }
 ],
 "metadata": {
  "celltoolbar": "幻灯片",
  "citation-manager": {
   "items": {}
  },
  "kernelspec": {
   "display_name": "Python 3 (ipykernel)",
   "language": "python",
   "name": "python3"
  },
  "language_info": {
   "codemirror_mode": {
    "name": "ipython",
    "version": 3
   },
   "file_extension": ".py",
   "mimetype": "text/x-python",
   "name": "python",
   "nbconvert_exporter": "python",
   "pygments_lexer": "ipython3",
   "version": "3.9.0"
  },
  "rise": {
   "scroll": true,
   "theme": "serif",
   "transition": "zoom"
  },
  "varInspector": {
   "cols": {
    "lenName": 16,
    "lenType": 16,
    "lenVar": 40
   },
   "kernels_config": {
    "python": {
     "delete_cmd_postfix": "",
     "delete_cmd_prefix": "del ",
     "library": "var_list.py",
     "varRefreshCmd": "print(var_dic_list())"
    },
    "r": {
     "delete_cmd_postfix": ") ",
     "delete_cmd_prefix": "rm(",
     "library": "var_list.r",
     "varRefreshCmd": "cat(var_dic_list()) "
    }
   },
   "types_to_exclude": [
    "module",
    "function",
    "builtin_function_or_method",
    "instance",
    "_Feature"
   ],
   "window_display": false
  }
 },
 "nbformat": 4,
 "nbformat_minor": 5
}
