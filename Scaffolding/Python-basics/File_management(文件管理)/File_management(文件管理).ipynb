{
 "cells": [
  {
   "cell_type": "markdown",
   "metadata": {
    "slideshow": {
     "slide_type": "slide"
    }
   },
   "source": [
    "## 本周作业\n",
    "### 一、要求\n",
    "1. 每人独立完成，小组为单位提交\n",
    "2. 搞明白今天讲的文件管理的内容和代码\n",
    "3. 自己设置操作的文件和文件夹（与代码notebook在同一个目录下）\n",
    "4. 在gitee代码平台的文件管理.ipynb进行实验\n",
    "5. 每个代码段（cell/单元格）之前增加一个单元格/cell做说明，解释下方的单元格/cell所做的工作\n",
    "6. 所有cell/单元格能够运行且提供说明之后，在ipynb第一个cell之前增加一个cell，进行简要综述。\n",
    "\n",
    "**注意：cell/单元格类型（代码code或标签Markdown）**\n",
    "\n",
    "### 二、提交内容\n",
    "1. 每个人的作业文件夹以“学号-姓名”方式命名，包含ipynb、文件和文件夹，交给组长；\n",
    "2. 每个小组由小组长收齐打包，提交的文件名称为\"小组名-组长.zip\"。\n",
    "\n",
    "### 三、提交时间\n",
    "周日 10月31日20:00\n"
   ]
  },
  {
   "cell_type": "markdown",
   "metadata": {},
   "source": [
    "## 注意\n",
    "下列代码所使用的文件夹如test1，test2等，以及其中的图片文件如2020-11-22_20.47.31.png等都在当前目录下都不存在，完成作业之前可以在代码所在目录创建文件夹，将一些文件复制到该文件夹中，实验过程中通过执行代码完成文件的复制、移动、重命名、压缩等操作。"
   ]
  },
  {
   "cell_type": "markdown",
   "metadata": {
    "slideshow": {
     "slide_type": "slide"
    }
   },
   "source": [
    "# shutil模块\n",
    "复制、移动、重命名以及删除文件\n",
    "\n",
    "```python\n",
    "import shutil\n",
    "```\n"
   ]
  },
  {
   "cell_type": "code",
   "execution_count": null,
   "metadata": {
    "slideshow": {
     "slide_type": "-"
    }
   },
   "outputs": [],
   "source": [
    "import shutil"
   ]
  },
  {
   "cell_type": "markdown",
   "metadata": {
    "slideshow": {
     "slide_type": "subslide"
    }
   },
   "source": [
    "## 拷贝文件 shutil.copy()"
   ]
  },
  {
   "cell_type": "markdown",
   "metadata": {},
   "source": [
    "## 注意：下列操作的文件夹以及文件都不存在，如果直接运行代码会出错，请创建文件夹复制文件到其中，根据自己的文件夹和文件名修改下列代码，使之能够顺利运行。"
   ]
  },
  {
   "cell_type": "code",
   "execution_count": null,
   "metadata": {
    "slideshow": {
     "slide_type": "-"
    }
   },
   "outputs": [],
   "source": [
    "# 复制文件\n",
    "# 注意：路径中字符串中开始的一个点\".\"表示当前目录，两个点\"..\"表示上一级目录。\n",
    "shutil.copy('./test1/2020-11-22_20.47.31.png', './test2/')\n",
    "# 将第一个参数指定的文件拷贝到第二个参数指定的路径\n",
    "# 第二个参数如果是个目录则复制过去的文件使用原来的名字，如果第二个参数为一个文件名，则相当于复制来的文件修改为指定名称的文件"
   ]
  },
  {
   "cell_type": "code",
   "execution_count": null,
   "metadata": {},
   "outputs": [],
   "source": [
    "# 注意：copy的第一个参数所代表的文件是否存在\n",
    "# 目标：理解拼接字符串构建新的文件名字\n",
    "#把一个文件复制10遍\n",
    "for x in range(10):\n",
    "     a='test_' + str(x) + '.zip'\n",
    "     shutil.copy('test2_png.zip',a)"
   ]
  },
  {
   "cell_type": "markdown",
   "metadata": {
    "slideshow": {
     "slide_type": "subslide"
    }
   },
   "source": [
    "## 拷贝文件夹 shutil.copytree()\n"
   ]
  },
  {
   "cell_type": "code",
   "execution_count": null,
   "metadata": {
    "slideshow": {
     "slide_type": "-"
    }
   },
   "outputs": [],
   "source": [
    "# 注意：确认是否当前目录下是否存在test1文件夹\n",
    "shutil.copytree('./test1', './test_bak')"
   ]
  },
  {
   "cell_type": "markdown",
   "metadata": {
    "slideshow": {
     "slide_type": "subslide"
    }
   },
   "source": [
    "## 移动文件 shutil.move()"
   ]
  },
  {
   "cell_type": "code",
   "execution_count": null,
   "metadata": {
    "scrolled": true,
    "slideshow": {
     "slide_type": "-"
    }
   },
   "outputs": [],
   "source": [
    "shutil.move( './test2/a_1.png','./test1/2020-11-22_20.47.31.png')\n"
   ]
  },
  {
   "cell_type": "markdown",
   "metadata": {
    "slideshow": {
     "slide_type": "-"
    }
   },
   "source": [
    "## 注意：如果目标文件夹有同名的文件则会直接被覆盖，使用时请小心！！！"
   ]
  },
  {
   "cell_type": "code",
   "execution_count": null,
   "metadata": {
    "scrolled": true,
    "slideshow": {
     "slide_type": "-"
    }
   },
   "outputs": [],
   "source": [
    "# 目标目录不存在会报错\n",
    "shutil.move('./test1/2020-11-22_20.47.31.png', './test111/')"
   ]
  },
  {
   "cell_type": "code",
   "execution_count": null,
   "metadata": {
    "slideshow": {
     "slide_type": "-"
    }
   },
   "outputs": [],
   "source": [
    "shutil.move('./test3/', './test4/') #移动目录，如果目标目录不存在，则相当于将原文件夹改名"
   ]
  },
  {
   "cell_type": "markdown",
   "metadata": {
    "slideshow": {
     "slide_type": "slide"
    }
   },
   "source": [
    "## 列出文件夹下的所有文件\n",
    "\n",
    "### glob.glob函数\n",
    "\n",
    "函数功能：匹配参数指定的路径下所有的符合条件的文件（不包括子文件夹中的文件），函数执行后得到的是参数给出的路径下文件的**list（列表）**的形式。\n",
    "\n",
    "参数是指定匹配的路径字符串，可以是相对路径也可以是绝对路径。\n",
    "- 相对路径：相对于当前文件的路径。\n",
    "- 绝对路径：从硬盘的根目录(盘符)开始，进行一级级目录指向文件所构成的路径。\n",
    "\n",
    "这个字符串的书写和我们使用linux的shell命令相似，或者说基本一样。\n",
    "\n",
    "我们按照平常使用cd命令时的参数就能够找到我们所需要的文件的路径。字符串中可以包括“*”、“?”和\"[\"、\"]\"，其中星号 ** 表示匹配任意字符串，?匹配任意单个字符，[0-9]与[a-z]表示匹配0-9的单个数字与a-z的单个字符。"
   ]
  },
  {
   "cell_type": "code",
   "execution_count": null,
   "metadata": {
    "slideshow": {
     "slide_type": "slide"
    }
   },
   "outputs": [],
   "source": [
    "import glob\n",
    "files = glob.glob('./test*/*.png')\n",
    "print(files)\n",
    "\n",
    "files2 = glob.glob('./test1/*.png')\n",
    "print(files2)"
   ]
  },
  {
   "cell_type": "code",
   "execution_count": null,
   "metadata": {
    "slideshow": {
     "slide_type": "-"
    }
   },
   "outputs": [],
   "source": [
    "for f in files:\n",
    "    print(f'moving {f}')\n",
    "    shutil.move(f, './test2/') #将目录中的png文件全部移动到test2\n",
    "    print(f'{f} is moved!')"
   ]
  },
  {
   "cell_type": "markdown",
   "metadata": {
    "slideshow": {
     "slide_type": "slide"
    }
   },
   "source": [
    "## 删除文件\n",
    "1. os.unlink(path) 删除path所指定的文件\n",
    "2. os.rmdir(path) 删除path所指定的文件夹（文件夹需要为空，不能删除非空文件夹）\n",
    "3. shutil.rmtree(path) 删除path所指定的文件夹，以及其中的所有文件"
   ]
  },
  {
   "cell_type": "code",
   "execution_count": null,
   "metadata": {
    "slideshow": {
     "slide_type": "subslide"
    }
   },
   "outputs": [],
   "source": [
    "shutil.copytree('./test2', './test3')"
   ]
  },
  {
   "cell_type": "code",
   "execution_count": null,
   "metadata": {
    "slideshow": {
     "slide_type": "subslide"
    }
   },
   "outputs": [],
   "source": [
    "import os\n",
    "# 删除test3中所有png文件\n",
    "files = glob.glob('./test4/*.png')\n",
    "print(f\"files {files}\")\n",
    "for f in files:\n",
    "    print('sssssss')\n",
    "    os.unlink(f)\n",
    "# 删除test3中所有文件\n",
    "files2 = glob.glob('./test4/*')\n",
    "for f in files2:\n",
    "    os.unlink(f)\n",
    "# 删除test3文件夹\n",
    "os.rmdir('./test4/')"
   ]
  },
  {
   "cell_type": "code",
   "execution_count": null,
   "metadata": {
    "slideshow": {
     "slide_type": "-"
    }
   },
   "outputs": [],
   "source": [
    "shutil.copytree('./test1', './test3')"
   ]
  },
  {
   "cell_type": "code",
   "execution_count": null,
   "metadata": {
    "slideshow": {
     "slide_type": "-"
    }
   },
   "outputs": [],
   "source": [
    "shutil.rmtree('./test3/')"
   ]
  },
  {
   "cell_type": "markdown",
   "metadata": {
    "slideshow": {
     "slide_type": "slide"
    }
   },
   "source": [
    "## 安全的删除文件send2trash()\n",
    "对象：\n",
    "1. 文件\n",
    "2. 文件夹\n",
    "\n",
    "移动到垃圾箱，而非直接删除。"
   ]
  },
  {
   "cell_type": "code",
   "execution_count": null,
   "metadata": {
    "slideshow": {
     "slide_type": "-"
    }
   },
   "outputs": [],
   "source": [
    "shutil.copytree('./test2', './test3')"
   ]
  },
  {
   "cell_type": "code",
   "execution_count": null,
   "metadata": {
    "slideshow": {
     "slide_type": "-"
    }
   },
   "outputs": [],
   "source": [
    "import send2trash\n",
    "files = glob.glob('./test3/*')\n",
    "for f in files:\n",
    "    send2trash.send2trash(f)"
   ]
  },
  {
   "cell_type": "code",
   "execution_count": null,
   "metadata": {
    "slideshow": {
     "slide_type": "-"
    }
   },
   "outputs": [],
   "source": [
    "send2trash.send2trash('./test3/')"
   ]
  },
  {
   "cell_type": "markdown",
   "metadata": {
    "slideshow": {
     "slide_type": "slide"
    }
   },
   "source": [
    "## 压缩文件 zipfile\n"
   ]
  },
  {
   "cell_type": "code",
   "execution_count": null,
   "metadata": {
    "slideshow": {
     "slide_type": "-"
    }
   },
   "outputs": [],
   "source": [
    "# 1. 生成压缩文件\n",
    "import zipfile\n",
    "newzip = zipfile.ZipFile('test1_png.zip', 'w')\n",
    "files = glob.glob('./test2/*.png')\n",
    "print('开始压缩文件')\n",
    "for f in files:\n",
    "    newzip.write(f, compress_type=zipfile.ZIP_DEFLATED)\n",
    "newzip.close()\n",
    "print('文件压缩完成')"
   ]
  },
  {
   "cell_type": "code",
   "execution_count": null,
   "metadata": {
    "slideshow": {
     "slide_type": "-"
    }
   },
   "outputs": [],
   "source": [
    "# 2. 读取压缩文件列表\n",
    "testzip = zipfile.ZipFile('./test1_png.zip')\n",
    "zip_files = testzip.namelist()\n",
    "print(f'test1_png.zip压缩包有文件{zip_files}')"
   ]
  },
  {
   "cell_type": "code",
   "execution_count": null,
   "metadata": {
    "slideshow": {
     "slide_type": "-"
    }
   },
   "outputs": [],
   "source": [
    "# 2.1 读取压缩包中文件信息\n",
    "for f in zip_files:\n",
    "    file_info = testzip.getinfo(f)\n",
    "    #print(file_info)\n",
    "    print(f'文件原始大小：{file_info.file_size}')\n",
    "    print(f'文件压缩大小：{file_info.compress_size}')\n",
    "    comp_rate = file_info.file_size/file_info.compress_size\n",
    "    print(f'文件压缩率：{comp_rate}')"
   ]
  },
  {
   "cell_type": "code",
   "execution_count": null,
   "metadata": {
    "slideshow": {
     "slide_type": "-"
    }
   },
   "outputs": [],
   "source": [
    "# 3. 解压缩\n",
    "testzip = zipfile.ZipFile('./test1_png.zip')\n",
    "testzip.extractall('./test3/') # 文件解压缩到test3，解压出的目录还是test1\n",
    "testzip.close()"
   ]
  },
  {
   "cell_type": "markdown",
   "metadata": {
    "slideshow": {
     "slide_type": "slide"
    }
   },
   "source": [
    "## 文件夹操作\n",
    "os.path\n",
    "\n",
    "1.  os.path.basename(path)\n",
    "\n",
    "    返回路径 path 的基本名称。这是将 path 传入函数 split() 之后，返回的一对值中的第二个元素。\n",
    "2.  os.path.dirname(path)\n",
    "\n",
    "    返回路径 path 的目录名称。这是将 path 传入函数 split() 之后，返回的一对值中的第一个元素。\n",
    "3.  os.path.exists(path)\n",
    "\n",
    "    如果 path 指向一个已存在的路径或已打开的文件描述符，返回 True。对于失效的符号链接，返回 False。\n",
    "4. os.path.isfile(path)\n",
    "    如果 path 是 现有的 常规文件，则返回 True。\n",
    "5. os.path.isdir(path)\n",
    "\n",
    "    如果 path 是 现有的 目录，则返回 True。\n",
    "6. os.path.join(path, *paths)\n",
    "    合理地拼接一个或多个路径部分。\n",
    "7. os.path.split(path)\n",
    "    将路径 path 拆分为一对，即 (head, tail)，其中，tail 是路径的最后一部分，而 head 里是除最后部分外的所有内容。tail 部分不会包含斜杠，如果 path 以斜杠结尾，则 tail 将为空。如果 path 中没有斜杠，head 将为空。如果 path 为空，则 head 和 tail 均为空。head 末尾的斜杠会被去掉，除非它是根目录（即它仅包含一个或多个斜杠）。"
   ]
  },
  {
   "cell_type": "code",
   "execution_count": null,
   "metadata": {
    "slideshow": {
     "slide_type": "-"
    }
   },
   "outputs": [],
   "source": [
    "if os.path.exists('./test3/'):\n",
    "    print('test3已经有了')"
   ]
  },
  {
   "cell_type": "code",
   "execution_count": null,
   "metadata": {
    "slideshow": {
     "slide_type": "-"
    }
   },
   "outputs": [],
   "source": [
    "os.path.basename('./test1/2020-11-22_20.47.55.png')"
   ]
  },
  {
   "cell_type": "code",
   "execution_count": null,
   "metadata": {
    "slideshow": {
     "slide_type": "-"
    }
   },
   "outputs": [],
   "source": [
    "os.path.dirname('/home/guangwei/documents/test1/2020-11-22_20.47.55.png')"
   ]
  },
  {
   "cell_type": "code",
   "execution_count": null,
   "metadata": {
    "slideshow": {
     "slide_type": "-"
    }
   },
   "outputs": [],
   "source": [
    "p = os.path.join('.', 'a', 'b', 'c', 'a.txt')\n",
    "print(p)\n",
    "print(os.path.dirname(p))\n",
    "print(os.path.basename(p))"
   ]
  },
  {
   "cell_type": "code",
   "execution_count": null,
   "metadata": {
    "slideshow": {
     "slide_type": "-"
    }
   },
   "outputs": [],
   "source": [
    "os.path.split(p)"
   ]
  },
  {
   "cell_type": "code",
   "execution_count": null,
   "metadata": {
    "slideshow": {
     "slide_type": "-"
    }
   },
   "outputs": [],
   "source": [
    "if os.path.isdir(p):\n",
    "    print(f'{p} 是个目录')\n",
    "else:\n",
    "    print(f'{p} 不是个目录')"
   ]
  },
  {
   "cell_type": "code",
   "execution_count": null,
   "metadata": {
    "slideshow": {
     "slide_type": "-"
    }
   },
   "outputs": [],
   "source": [
    "p1 = './test1'\n",
    "if os.path.isdir(p1):\n",
    "    print(f'{p1} 是个目录')\n",
    "else:\n",
    "    print(f'{p1} 不是个目录')"
   ]
  },
  {
   "cell_type": "markdown",
   "metadata": {
    "slideshow": {
     "slide_type": "slide"
    }
   },
   "source": [
    "## os.listdir() \n",
    "\n",
    "方法用于返回指定的文件夹包含的文件或文件夹的名字的列表。\n",
    "\n",
    "它不包括 . 和 .. 即使它在文件夹中。\n",
    "\n",
    "只支持在 Unix, Windows 下使用。"
   ]
  },
  {
   "cell_type": "code",
   "execution_count": null,
   "metadata": {
    "slideshow": {
     "slide_type": "-"
    }
   },
   "outputs": [],
   "source": [
    "# 列出当前目录下的文件以及文件夹\n",
    "dirlist = os.listdir('./')\n",
    "print(dirlist)"
   ]
  },
  {
   "cell_type": "code",
   "execution_count": null,
   "metadata": {
    "slideshow": {
     "slide_type": "-"
    }
   },
   "outputs": [],
   "source": [
    "for fn in dirlist:\n",
    "    f = os.path.join('.', fn)\n",
    "    if os.path.isdir(f):\n",
    "        print(f'{f} 是文件夹')\n",
    "    else:\n",
    "        print(f'{f}是文件')"
   ]
  },
  {
   "cell_type": "code",
   "execution_count": null,
   "metadata": {},
   "outputs": [],
   "source": []
  }
 ],
 "metadata": {
  "celltoolbar": "原始单元格格式",
  "kernelspec": {
   "display_name": "Python 3",
   "language": "python",
   "name": "python3"
  },
  "language_info": {
   "codemirror_mode": {
    "name": "ipython",
    "version": 3
   },
   "file_extension": ".py",
   "mimetype": "text/x-python",
   "name": "python",
   "nbconvert_exporter": "python",
   "pygments_lexer": "ipython3",
   "version": "3.8.10"
  },
  "rise": {
   "scroll": true,
   "theme": "serif",
   "transition": "zoom"
  },
  "varInspector": {
   "cols": {
    "lenName": 16,
    "lenType": 16,
    "lenVar": 40
   },
   "kernels_config": {
    "python": {
     "delete_cmd_postfix": "",
     "delete_cmd_prefix": "del ",
     "library": "var_list.py",
     "varRefreshCmd": "print(var_dic_list())"
    },
    "r": {
     "delete_cmd_postfix": ") ",
     "delete_cmd_prefix": "rm(",
     "library": "var_list.r",
     "varRefreshCmd": "cat(var_dic_list()) "
    }
   },
   "types_to_exclude": [
    "module",
    "function",
    "builtin_function_or_method",
    "instance",
    "_Feature"
   ],
   "window_display": false
  }
 },
 "nbformat": 4,
 "nbformat_minor": 4
}
