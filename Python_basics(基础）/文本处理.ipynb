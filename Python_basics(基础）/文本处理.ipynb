{
 "cells": [
  {
   "cell_type": "markdown",
   "metadata": {
    "slideshow": {
     "slide_type": "slide"
    }
   },
   "source": [
    "## Python文本处理\n",
    "\n",
    "---\n",
    "张光伟 陕西师范大学历史文化学院"
   ]
  },
  {
   "cell_type": "markdown",
   "metadata": {
    "slideshow": {
     "slide_type": "subslide"
    }
   },
   "source": [
    "## 字符串\n",
    "\n",
    "字符串是Python中最常用的数据类型:str，可以使用引号( ' 或 \" )来创建字符串。\n",
    "\n",
    "- 转义字符\n",
    "- 字符串截取\n",
    "- 字符串内容更新\n",
    "- 字符串拼接\n",
    "- 字符串格式化\n",
    "\n",
    "1. 英文字符串\n",
    "\n",
    "2. 中文字符串\n",
    "- 简繁转换\n",
    "- 中文分词\n",
    "\n",
    "3. 数字字符串\n",
    "\n",
    "4. 混合字符串\n",
    "\n",
    "### 字符串操作\n",
    "\n",
    "1. 拼接\n",
    "2. 查找、定位\n",
    "3. 字符串格式化\n",
    "4. 字符串与列表\n",
    "5. 字符串与文件\n"
   ]
  },
  {
   "cell_type": "markdown",
   "metadata": {
    "slideshow": {
     "slide_type": "slide"
    }
   },
   "source": [
    "### 转义字符\n",
    "在字符中使用特殊字符时，python 用反斜杠 \\ 转义字符。"
   ]
  },
  {
   "cell_type": "markdown",
   "metadata": {
    "slideshow": {
     "slide_type": "subslide"
    }
   },
   "source": [
    "### 续行符\n",
    "### 在行尾添加反斜杠 \\"
   ]
  },
  {
   "cell_type": "code",
   "execution_count": 1,
   "metadata": {
    "slideshow": {
     "slide_type": "-"
    }
   },
   "outputs": [
    {
     "name": "stdout",
     "output_type": "stream",
     "text": [
      "line1 line2 line3\n"
     ]
    }
   ],
   "source": [
    "\n",
    "print(\"line1 \\\n",
    "line2 \\\n",
    "line3\")"
   ]
  },
  {
   "cell_type": "markdown",
   "metadata": {
    "slideshow": {
     "slide_type": "subslide"
    }
   },
   "source": [
    "### 反斜杠 \\\\"
   ]
  },
  {
   "cell_type": "code",
   "execution_count": 2,
   "metadata": {
    "slideshow": {
     "slide_type": "-"
    }
   },
   "outputs": [
    {
     "name": "stdout",
     "output_type": "stream",
     "text": [
      "\\\n"
     ]
    }
   ],
   "source": [
    "\n",
    "print(\"\\\\\")\n"
   ]
  },
  {
   "cell_type": "markdown",
   "metadata": {
    "slideshow": {
     "slide_type": "subslide"
    }
   },
   "source": [
    "### 单引号 '"
   ]
  },
  {
   "cell_type": "code",
   "execution_count": 3,
   "metadata": {
    "slideshow": {
     "slide_type": "-"
    }
   },
   "outputs": [
    {
     "name": "stdout",
     "output_type": "stream",
     "text": [
      "'\n",
      "'\n"
     ]
    }
   ],
   "source": [
    "\n",
    "print(\"'\")\n",
    "print('\\'')"
   ]
  },
  {
   "cell_type": "markdown",
   "metadata": {
    "slideshow": {
     "slide_type": "subslide"
    }
   },
   "source": [
    "### 双引号 \""
   ]
  },
  {
   "cell_type": "code",
   "execution_count": 4,
   "metadata": {
    "slideshow": {
     "slide_type": "-"
    }
   },
   "outputs": [
    {
     "name": "stdout",
     "output_type": "stream",
     "text": [
      "\"\n",
      "\"\n"
     ]
    }
   ],
   "source": [
    "\n",
    "print('\"')\n",
    "#print(\"\"\")\n",
    "print(\"\\\"\")"
   ]
  },
  {
   "cell_type": "markdown",
   "metadata": {
    "slideshow": {
     "slide_type": "subslide"
    }
   },
   "source": [
    "### 换行 line feed \\n"
   ]
  },
  {
   "cell_type": "code",
   "execution_count": 38,
   "metadata": {
    "slideshow": {
     "slide_type": "-"
    }
   },
   "outputs": [
    {
     "name": "stdout",
     "output_type": "stream",
     "text": [
      "你\n",
      "好\n"
     ]
    }
   ],
   "source": [
    "\n",
    "print(\"你\\n好\")"
   ]
  },
  {
   "cell_type": "markdown",
   "metadata": {
    "slideshow": {
     "slide_type": "subslide"
    }
   },
   "source": [
    "### 回车 carriage return  \\r\n",
    "### 将 \\r 后面的内容移到字符串开头，并逐一替换开头部分的字符，直至将 \\r 后面的内容完全替换完成。"
   ]
  },
  {
   "cell_type": "code",
   "execution_count": 39,
   "metadata": {
    "slideshow": {
     "slide_type": "-"
    }
   },
   "outputs": [
    {
     "name": "stdout",
     "output_type": "stream",
     "text": [
      "Hello2323232332332\r",
      "World!\n"
     ]
    }
   ],
   "source": [
    "\n",
    "print(\"Hello2323232332332\\rWorld!\")"
   ]
  },
  {
   "cell_type": "markdown",
   "metadata": {
    "slideshow": {
     "slide_type": "slide"
    }
   },
   "source": [
    "## 字符串运算"
   ]
  },
  {
   "cell_type": "code",
   "execution_count": 7,
   "metadata": {
    "slideshow": {
     "slide_type": "subslide"
    }
   },
   "outputs": [
    {
     "data": {
      "text/plain": [
       "'helloWorld'"
      ]
     },
     "execution_count": 7,
     "metadata": {},
     "output_type": "execute_result"
    }
   ],
   "source": [
    "# + 字符串拼接\n",
    "a = \"hello\"\n",
    "b = \"World\"\n",
    "c = a + b\n",
    "c"
   ]
  },
  {
   "cell_type": "code",
   "execution_count": 8,
   "metadata": {
    "slideshow": {
     "slide_type": "subslide"
    }
   },
   "outputs": [
    {
     "data": {
      "text/plain": [
       "'hellohello'"
      ]
     },
     "execution_count": 8,
     "metadata": {},
     "output_type": "execute_result"
    }
   ],
   "source": [
    "# 字符串重复\n",
    "a2 = a*2\n",
    "a2"
   ]
  },
  {
   "cell_type": "markdown",
   "metadata": {
    "slideshow": {
     "slide_type": "subslide"
    }
   },
   "source": [
    "### 访问字符串中的值\n",
    "\n",
    "可以使用方括号[]来访问字符串中的字符，[:]截取部分字符串\n",
    "\n",
    "语法：字符串变量[起始位置:结束位置]\n",
    "\n",
    "**截取的字符串包括起始位置对应的字符，不包括结束位置对应的字符**"
   ]
  },
  {
   "cell_type": "code",
   "execution_count": 9,
   "metadata": {
    "scrolled": true,
    "slideshow": {
     "slide_type": "subslide"
    }
   },
   "outputs": [
    {
     "name": "stdout",
     "output_type": "stream",
     "text": [
      "a[0]:a\n",
      "a[0:2]:ab\n",
      "a[0:]:abcde\n",
      "a[-1]:e\n"
     ]
    }
   ],
   "source": [
    "a = 'abcde'\n",
    "print(f\"a[0]:{a[0]}\")\n",
    "print(f\"a[0:2]:{a[0:2]}\")\n",
    "print(f\"a[0:]:{a[0:]}\")\n",
    "print(f\"a[-1]:{a[-1]}\")"
   ]
  },
  {
   "cell_type": "code",
   "execution_count": 10,
   "metadata": {
    "slideshow": {
     "slide_type": "subslide"
    }
   },
   "outputs": [
    {
     "data": {
      "text/plain": [
       "''"
      ]
     },
     "execution_count": 10,
     "metadata": {},
     "output_type": "execute_result"
    }
   ],
   "source": [
    "a[1:1]"
   ]
  },
  {
   "cell_type": "code",
   "execution_count": 11,
   "metadata": {
    "slideshow": {
     "slide_type": "subslide"
    }
   },
   "outputs": [
    {
     "name": "stdout",
     "output_type": "stream",
     "text": [
      "False\n",
      "False\n"
     ]
    }
   ],
   "source": [
    "# in 成员运算符\n",
    "print('h' in a)\n",
    "print('w' in a)"
   ]
  },
  {
   "cell_type": "code",
   "execution_count": 12,
   "metadata": {
    "slideshow": {
     "slide_type": "subslide"
    }
   },
   "outputs": [
    {
     "name": "stdout",
     "output_type": "stream",
     "text": [
      "True\n",
      "True\n"
     ]
    }
   ],
   "source": [
    "# not in \n",
    "print('h' not in a)\n",
    "print('w' not in a)"
   ]
  },
  {
   "cell_type": "code",
   "execution_count": 13,
   "metadata": {
    "slideshow": {
     "slide_type": "subslide"
    }
   },
   "outputs": [
    {
     "name": "stdout",
     "output_type": "stream",
     "text": [
      "我叫Tony今年10岁，来自中国。\n",
      "我叫Tony今年10岁，来自中国。\n"
     ]
    }
   ],
   "source": [
    "# 字符串格式化\n",
    "name = 'Tony'\n",
    "age = 10\n",
    "place = '中国'\n",
    "print(\"我叫%s今年%d岁，来自%s。\" % (name, age, place))\n",
    "\n",
    "print(f\"我叫{name}今年{age}岁，来自{place}。\")\n",
    "\n"
   ]
  },
  {
   "cell_type": "code",
   "execution_count": 14,
   "metadata": {
    "slideshow": {
     "slide_type": "subslide"
    }
   },
   "outputs": [
    {
     "data": {
      "text/plain": [
       "'我叫Tony今年10岁，来自中国。'"
      ]
     },
     "execution_count": 14,
     "metadata": {},
     "output_type": "execute_result"
    }
   ],
   "source": [
    "a = f\"我叫{name}今年{age}岁，来自{place}。\"\n",
    "a"
   ]
  },
  {
   "cell_type": "markdown",
   "metadata": {
    "slideshow": {
     "slide_type": "subslide"
    }
   },
   "source": [
    "### f-string\n",
    "Python 3.6之后添加的功能，是新的格式化字符串的语法。\n",
    "\n",
    "以前使用 %\n",
    "\n",
    "f-string 格式化字符串以 f 开头，后面跟着字符串，字符串中的表达式用大括号 {} 包起来，它会将变量或表达式计算后的值替换进去\n",
    "\n",
    "```Python\n",
    "name = 'Tony'\n",
    "age = 10\n",
    "place = '中国'\n",
    "print(f\"我叫{name}今年{age}岁，来自{place}。\")\n",
    "```"
   ]
  },
  {
   "cell_type": "code",
   "execution_count": 15,
   "metadata": {
    "slideshow": {
     "slide_type": "subslide"
    }
   },
   "outputs": [
    {
     "name": "stdout",
     "output_type": "stream",
     "text": [
      "共计:00010.50\n"
     ]
    }
   ],
   "source": [
    "# {content:format}设置字符串格式，content是替换并填入字符串的内容，如变量、表达式、函数等，format是格式描述符。\n",
    "# 采用默认格式不需要指定{:format}\n",
    "\n",
    "print(f\"共计:{10.5:08.2f}\")"
   ]
  },
  {
   "cell_type": "markdown",
   "metadata": {
    "slideshow": {
     "slide_type": "subslide"
    }
   },
   "source": [
    "## 格式化字符串官方文档说明\n",
    "https://docs.python.org/3/library/string.html#format-string-syntax"
   ]
  },
  {
   "cell_type": "markdown",
   "metadata": {
    "slideshow": {
     "slide_type": "slide"
    }
   },
   "source": [
    "## 字符串内建函数"
   ]
  },
  {
   "cell_type": "markdown",
   "metadata": {
    "slideshow": {
     "slide_type": "subslide"
    }
   },
   "source": [
    "### capitalize\n",
    "### 语法：capitalize()\n",
    "### 功能：将字符串的第一个字符转换为大写"
   ]
  },
  {
   "cell_type": "code",
   "execution_count": 16,
   "metadata": {
    "slideshow": {
     "slide_type": "-"
    }
   },
   "outputs": [
    {
     "data": {
      "text/plain": [
       "'Hello'"
      ]
     },
     "execution_count": 16,
     "metadata": {},
     "output_type": "execute_result"
    }
   ],
   "source": [
    "\"hello\".capitalize()"
   ]
  },
  {
   "cell_type": "markdown",
   "metadata": {
    "slideshow": {
     "slide_type": "subslide"
    }
   },
   "source": [
    "### swapcase\n",
    "### 语法：swapcase()\n",
    "### 功能：将字符串中大写转换为小写，小写转换为大写"
   ]
  },
  {
   "cell_type": "code",
   "execution_count": 37,
   "metadata": {},
   "outputs": [
    {
     "data": {
      "text/plain": [
       "'HELLOwORLD'"
      ]
     },
     "execution_count": 37,
     "metadata": {},
     "output_type": "execute_result"
    }
   ],
   "source": [
    "'helloWorld'.swapcase()"
   ]
  },
  {
   "cell_type": "markdown",
   "metadata": {
    "slideshow": {
     "slide_type": "subslide"
    }
   },
   "source": [
    "### count\n",
    "### 语法：count(str, beg= 0,end=len(string))\n",
    "### 返回 str 在 string 里面出现的次数，如果 beg 或者 end 指定则返回指定范围内 str 出现的次数"
   ]
  },
  {
   "cell_type": "code",
   "execution_count": 17,
   "metadata": {
    "slideshow": {
     "slide_type": "-"
    }
   },
   "outputs": [
    {
     "name": "stdout",
     "output_type": "stream",
     "text": [
      "am的出现次数：2\n",
      "前半部分am的出现次数：1\n"
     ]
    }
   ],
   "source": [
    "str1 = 'My name is Guangwei Zhang. I am from SNNU'\n",
    "am_num = str1.count('am', 0, len(str1))\n",
    "am_num_first_half = str1.count('am', 0, len(str1)//2)\n",
    "print(f\"am的出现次数：{am_num}\")\n",
    "print(f\"前半部分am的出现次数：{am_num_first_half}\")"
   ]
  },
  {
   "cell_type": "code",
   "execution_count": 18,
   "metadata": {},
   "outputs": [
    {
     "data": {
      "text/plain": [
       "2"
      ]
     },
     "execution_count": 18,
     "metadata": {},
     "output_type": "execute_result"
    }
   ],
   "source": [
    "# 中文字符串计数\n",
    "cn_str1 = \"我叫张光伟我来自陕西师范大学\"\n",
    "cn_str1.count(\"我\")"
   ]
  },
  {
   "cell_type": "markdown",
   "metadata": {
    "slideshow": {
     "slide_type": "subslide"
    }
   },
   "source": [
    "### endswith \n",
    "### endswith(suffix, beg=0, end=len(string))\n",
    "### 检查字符串是否以 obj 结束，如果beg 或者 end 指定则检查指定的范围内是否以 obj 结束，如果是，返回 True,否则返回 False."
   ]
  },
  {
   "cell_type": "code",
   "execution_count": 19,
   "metadata": {
    "scrolled": true,
    "slideshow": {
     "slide_type": "-"
    }
   },
   "outputs": [
    {
     "name": "stdout",
     "output_type": "stream",
     "text": [
      "My name\n",
      "True\n"
     ]
    }
   ],
   "source": [
    "str1.endswith('NU')\n",
    "print(str1[0:7])\n",
    "print(str1.endswith('me', 0, 7))"
   ]
  },
  {
   "cell_type": "markdown",
   "metadata": {
    "slideshow": {
     "slide_type": "subslide"
    }
   },
   "source": [
    "### startswith\n",
    "### 语法：startswith(substr, beg=0,end=len(string))\n",
    "### 功能：检查字符串是否是以指定子字符串 substr 开头，是则返回 True，否则返回 False。如果beg 和 end 指定值，则在指定范围内检查"
   ]
  },
  {
   "cell_type": "code",
   "execution_count": 33,
   "metadata": {},
   "outputs": [
    {
     "data": {
      "text/plain": [
       "True"
      ]
     },
     "execution_count": 33,
     "metadata": {},
     "output_type": "execute_result"
    }
   ],
   "source": [
    "cn_str1 = \"我叫张光伟我来自陕西师范大学\"\n",
    "cn_str1.startswith('我')"
   ]
  },
  {
   "cell_type": "markdown",
   "metadata": {
    "slideshow": {
     "slide_type": "subslide"
    }
   },
   "source": [
    "### find\n",
    "### 语法： find(str, beg=0, end=len(string))\n",
    "### 检测 str 是否包含在字符串中，如果指定范围 beg 和 end ，则检查是否包含在指定范围内，如果包含返回开始的索引值，否则返回-1"
   ]
  },
  {
   "cell_type": "code",
   "execution_count": 20,
   "metadata": {
    "slideshow": {
     "slide_type": "-"
    }
   },
   "outputs": [
    {
     "data": {
      "text/plain": [
       "11"
      ]
     },
     "execution_count": 20,
     "metadata": {},
     "output_type": "execute_result"
    }
   ],
   "source": [
    "str1.find('Guangwei')"
   ]
  },
  {
   "cell_type": "code",
   "execution_count": 21,
   "metadata": {
    "slideshow": {
     "slide_type": "-"
    }
   },
   "outputs": [
    {
     "data": {
      "text/plain": [
       "-1"
      ]
     },
     "execution_count": 21,
     "metadata": {},
     "output_type": "execute_result"
    }
   ],
   "source": [
    "str1.find('zhangsan')"
   ]
  },
  {
   "cell_type": "markdown",
   "metadata": {
    "slideshow": {
     "slide_type": "subslide"
    }
   },
   "source": [
    "### rfind\n",
    "### 语法：rfind(str, beg=0,end=len(string))\n",
    "### 功能：类似于 find()函数，不过是从右边开始查找."
   ]
  },
  {
   "cell_type": "code",
   "execution_count": 22,
   "metadata": {},
   "outputs": [
    {
     "name": "stdout",
     "output_type": "stream",
     "text": [
      "My name is Guangwei Zhang. I am from SNNUMy name is Guangwei Zhang. I am from SNNU\n",
      "82\n"
     ]
    },
    {
     "data": {
      "text/plain": [
       "78"
      ]
     },
     "execution_count": 22,
     "metadata": {},
     "output_type": "execute_result"
    }
   ],
   "source": [
    "str1 = str1*2\n",
    "print(str1)\n",
    "print(len(str1))\n",
    "str1.rfind('SNNU')"
   ]
  },
  {
   "cell_type": "markdown",
   "metadata": {
    "slideshow": {
     "slide_type": "subslide"
    }
   },
   "source": [
    "### index\n",
    "### 语法： index(str, beg=0, end=len(string))\n",
    "### 功能：跟find()方法一样，只不过如果str不在字符串中会报一个异常"
   ]
  },
  {
   "cell_type": "code",
   "execution_count": 23,
   "metadata": {
    "slideshow": {
     "slide_type": "-"
    }
   },
   "outputs": [
    {
     "data": {
      "text/plain": [
       "11"
      ]
     },
     "execution_count": 23,
     "metadata": {},
     "output_type": "execute_result"
    }
   ],
   "source": [
    "str1.index('Guangwei')"
   ]
  },
  {
   "cell_type": "code",
   "execution_count": 24,
   "metadata": {
    "slideshow": {
     "slide_type": "-"
    }
   },
   "outputs": [
    {
     "ename": "ValueError",
     "evalue": "substring not found",
     "output_type": "error",
     "traceback": [
      "\u001b[0;31m--------------------------------------------------------------------\u001b[0m",
      "\u001b[0;31mValueError\u001b[0m                         Traceback (most recent call last)",
      "\u001b[0;32m<ipython-input-24-0a8f2dae67e5>\u001b[0m in \u001b[0;36m<module>\u001b[0;34m\u001b[0m\n\u001b[1;32m      1\u001b[0m \u001b[0;31m# 抛出异常\u001b[0m\u001b[0;34m\u001b[0m\u001b[0;34m\u001b[0m\u001b[0;34m\u001b[0m\u001b[0m\n\u001b[0;32m----> 2\u001b[0;31m \u001b[0mstr1\u001b[0m\u001b[0;34m.\u001b[0m\u001b[0mindex\u001b[0m\u001b[0;34m(\u001b[0m\u001b[0;34m'zhangsan'\u001b[0m\u001b[0;34m)\u001b[0m\u001b[0;34m\u001b[0m\u001b[0;34m\u001b[0m\u001b[0m\n\u001b[0m",
      "\u001b[0;31mValueError\u001b[0m: substring not found"
     ]
    }
   ],
   "source": [
    "# 抛出异常\n",
    "str1.index('zhangsan')"
   ]
  },
  {
   "cell_type": "code",
   "execution_count": 25,
   "metadata": {
    "slideshow": {
     "slide_type": "-"
    }
   },
   "outputs": [
    {
     "name": "stdout",
     "output_type": "stream",
     "text": [
      "不存在查找的字符！\n"
     ]
    }
   ],
   "source": [
    "# 异常处理\n",
    "try: \n",
    "    str1.index('zhangsan')\n",
    "except:\n",
    "    print('不存在查找的字符！')"
   ]
  },
  {
   "cell_type": "markdown",
   "metadata": {
    "slideshow": {
     "slide_type": "subslide"
    }
   },
   "source": [
    "### 字符串长度"
   ]
  },
  {
   "cell_type": "code",
   "execution_count": 26,
   "metadata": {
    "slideshow": {
     "slide_type": "-"
    }
   },
   "outputs": [
    {
     "data": {
      "text/plain": [
       "82"
      ]
     },
     "execution_count": 26,
     "metadata": {},
     "output_type": "execute_result"
    }
   ],
   "source": [
    "# len(string)\n",
    "# 返回字符串长度\n",
    "len(str1)"
   ]
  },
  {
   "cell_type": "markdown",
   "metadata": {
    "slideshow": {
     "slide_type": "subslide"
    }
   },
   "source": [
    "### replace\n",
    "### 语法：replace(old, new [, max])\n",
    "### 功能： 把 将字符串中的 old 替换成 new,如果 max 指定，则替换不超过 max 次。"
   ]
  },
  {
   "cell_type": "code",
   "execution_count": 27,
   "metadata": {
    "slideshow": {
     "slide_type": "-"
    }
   },
   "outputs": [
    {
     "name": "stdout",
     "output_type": "stream",
     "text": [
      "str1:My name is Guangwei Zhang. I am from SNNUMy name is Guangwei Zhang. I am from SNNU\n",
      "str2:My name is ZGW. I am from SNNUMy name is ZGW. I am from SNNU\n"
     ]
    }
   ],
   "source": [
    "\n",
    "print(f\"str1:{str1}\")\n",
    "str2 = str1.replace('Guangwei Zhang', 'ZGW')\n",
    "print(f\"str2:{str2}\")"
   ]
  },
  {
   "cell_type": "markdown",
   "metadata": {
    "slideshow": {
     "slide_type": "subslide"
    }
   },
   "source": [
    "### lstrip\n",
    "### 语法：lstrip()\n",
    "### 功能：截掉字符串左边的空格或指定字符。"
   ]
  },
  {
   "cell_type": "code",
   "execution_count": 34,
   "metadata": {},
   "outputs": [
    {
     "data": {
      "text/plain": [
       "'hello world'"
      ]
     },
     "execution_count": 34,
     "metadata": {},
     "output_type": "execute_result"
    }
   ],
   "source": [
    "'   hello world'.lstrip()"
   ]
  },
  {
   "cell_type": "code",
   "execution_count": 35,
   "metadata": {},
   "outputs": [
    {
     "data": {
      "text/plain": [
       "'hello world'"
      ]
     },
     "execution_count": 35,
     "metadata": {},
     "output_type": "execute_result"
    }
   ],
   "source": [
    "'...hello world'.lstrip('.')"
   ]
  },
  {
   "cell_type": "markdown",
   "metadata": {
    "slideshow": {
     "slide_type": "subslide"
    }
   },
   "source": [
    "### rstrip\n",
    "### rstrip()\n",
    "### 功能：删除字符串末尾的空格或指定字符。"
   ]
  },
  {
   "cell_type": "code",
   "execution_count": 28,
   "metadata": {},
   "outputs": [
    {
     "data": {
      "text/plain": [
       "'hello,world'"
      ]
     },
     "execution_count": 28,
     "metadata": {},
     "output_type": "execute_result"
    }
   ],
   "source": [
    "'hello,world    '.rstrip()"
   ]
  },
  {
   "cell_type": "code",
   "execution_count": 29,
   "metadata": {},
   "outputs": [
    {
     "data": {
      "text/plain": [
       "'hello,world'"
      ]
     },
     "execution_count": 29,
     "metadata": {},
     "output_type": "execute_result"
    }
   ],
   "source": [
    "'hello,world.'.rstrip('.')"
   ]
  },
  {
   "cell_type": "markdown",
   "metadata": {
    "slideshow": {
     "slide_type": "subslide"
    }
   },
   "source": [
    "### strip\t\n",
    "### 语法：strip([chars])\n",
    "### 功能：在字符串上执行 lstrip()和 rstrip()"
   ]
  },
  {
   "cell_type": "code",
   "execution_count": 36,
   "metadata": {},
   "outputs": [
    {
     "data": {
      "text/plain": [
       "'hello world'"
      ]
     },
     "execution_count": 36,
     "metadata": {},
     "output_type": "execute_result"
    }
   ],
   "source": [
    "'...hello world...'.strip('.')"
   ]
  },
  {
   "cell_type": "markdown",
   "metadata": {
    "slideshow": {
     "slide_type": "slide"
    }
   },
   "source": [
    "## 字符串与文件"
   ]
  },
  {
   "cell_type": "markdown",
   "metadata": {
    "slideshow": {
     "slide_type": "subslide"
    }
   },
   "source": [
    "## 将字符串内容写入文本文件保存到磁盘"
   ]
  },
  {
   "cell_type": "code",
   "execution_count": null,
   "metadata": {
    "slideshow": {
     "slide_type": "-"
    }
   },
   "outputs": [],
   "source": [
    "# 将字符串写入磁盘上的文本文件，保存\n",
    "with open('a.txt', 'w') as f:\n",
    "    f.write(str1)\n",
    "print(\"成功将字符串str1的内容写入文件a.txt\")"
   ]
  },
  {
   "cell_type": "markdown",
   "metadata": {
    "slideshow": {
     "slide_type": "subslide"
    }
   },
   "source": [
    "## 从磁盘的文本文件中读入内容，赋值给变量"
   ]
  },
  {
   "cell_type": "code",
   "execution_count": null,
   "metadata": {
    "slideshow": {
     "slide_type": "-"
    }
   },
   "outputs": [],
   "source": [
    "# 从磁盘上的文本文件读入内容，并保存在一个字符串变量中\n",
    "with open('a.txt', 'r') as f:\n",
    "    a = f.read()\n",
    "print(\"成功从文件a.txt读取内容\")\n",
    "print(a)"
   ]
  },
  {
   "cell_type": "markdown",
   "metadata": {
    "slideshow": {
     "slide_type": "subslide"
    }
   },
   "source": [
    "## 将中文字符串内容写入文本文件保存到磁盘"
   ]
  },
  {
   "cell_type": "code",
   "execution_count": null,
   "metadata": {
    "scrolled": true,
    "slideshow": {
     "slide_type": "-"
    }
   },
   "outputs": [],
   "source": [
    "# 将中文字符串写入磁盘文本文件，保存\n",
    "str1_cn = \"你好，我是张光伟，我来自陕西师范大学！\"\n",
    "with open('a_cn.txt', 'w') as f:\n",
    "    f.write(str1_cn)\n",
    "print(\"成功将字符串str1_cn的内容写入文件a_cn.txt\")"
   ]
  },
  {
   "cell_type": "markdown",
   "metadata": {
    "slideshow": {
     "slide_type": "subslide"
    }
   },
   "source": [
    "## 从磁盘的中文文本文件中读入内容，赋值给变量"
   ]
  },
  {
   "cell_type": "code",
   "execution_count": null,
   "metadata": {
    "slideshow": {
     "slide_type": "-"
    }
   },
   "outputs": [],
   "source": [
    "# 从磁盘上的中文文本文件读入内容，并保存在一个字符串变量中\n",
    "with open('a_cn.txt', 'r') as f:\n",
    "    a = f.read()\n",
    "print(\"成功从文件a_cn.txt读取内容\")\n",
    "print(a)"
   ]
  },
  {
   "cell_type": "markdown",
   "metadata": {
    "slideshow": {
     "slide_type": "subslide"
    }
   },
   "source": [
    "## 从磁盘的文本文件中读入内容，赋值给变量，修改之后重新保存到磁盘"
   ]
  },
  {
   "cell_type": "code",
   "execution_count": null,
   "metadata": {
    "slideshow": {
     "slide_type": "-"
    }
   },
   "outputs": [],
   "source": [
    "# 将中文字符串写入磁盘文本文件，保存\n",
    "str1_cn = a + \"我是历史文化学院的教师。很高兴认识大家！\"\n",
    "with open('a_cn.txt', 'w') as f:\n",
    "    f.write(str1_cn)\n",
    "print(\"成功将字符串str1_cn的内容写入文件a_cn.txt\")"
   ]
  },
  {
   "cell_type": "markdown",
   "metadata": {
    "slideshow": {
     "slide_type": "subslide"
    }
   },
   "source": [
    "### 字符串和列表的互相转换"
   ]
  },
  {
   "cell_type": "markdown",
   "metadata": {
    "slideshow": {
     "slide_type": "subslide"
    }
   },
   "source": [
    "### 字符串$\\rightarrow$列表\n",
    "### split\n",
    "### 语法：split(str=\"\", num=string.count(str))\n",
    "### 功能：以 str 为分隔符截取字符串，如果 num 有指定值，则仅截取 num+1 个子字符串"
   ]
  },
  {
   "cell_type": "code",
   "execution_count": 31,
   "metadata": {
    "slideshow": {
     "slide_type": "-"
    }
   },
   "outputs": [
    {
     "name": "stdout",
     "output_type": "stream",
     "text": [
      "lst1's type is <class 'list'>\n",
      " lst1:['My', 'name', 'is', 'Guangwei', 'Zhang.', 'I', 'am', 'from', 'SNNU']\n",
      "lst2's type is <class 'list'>\n",
      " lst2:['My', 'name', 'is Guangwei Zhang. I am from SNNU']\n"
     ]
    }
   ],
   "source": [
    "str1 = 'My name is Guangwei Zhang. I am from SNNU'\n",
    "lst1 = str1.split(\" \")\n",
    "print(f\"lst1's type is {type(lst1)}\\n lst1:{lst1}\")\n",
    "lst2 = str1.split(\" \", 2)\n",
    "print(f\"lst2's type is {type(lst2)}\\n lst2:{lst2}\")"
   ]
  },
  {
   "cell_type": "markdown",
   "metadata": {
    "slideshow": {
     "slide_type": "subslide"
    }
   },
   "source": [
    "### 列表$\\rightarrow$字符串"
   ]
  },
  {
   "cell_type": "code",
   "execution_count": null,
   "metadata": {
    "slideshow": {
     "slide_type": "-"
    }
   },
   "outputs": [],
   "source": [
    "# 使用空格串联\n",
    "str1_space = ' '.join(lst1)\n",
    "print(str1_space)\n",
    "# 使用都好串联\n",
    "str1_comma = ','.join(lst1)\n",
    "print(str1_comma)"
   ]
  },
  {
   "cell_type": "markdown",
   "metadata": {
    "slideshow": {
     "slide_type": "subslide"
    }
   },
   "source": [
    "### 中文字符串和列表"
   ]
  },
  {
   "cell_type": "code",
   "execution_count": null,
   "metadata": {
    "slideshow": {
     "slide_type": "-"
    }
   },
   "outputs": [],
   "source": [
    "cn_str1 = \"我 是 张光伟 我 来自 陕西师范大学\"\n",
    "cn_lst1 = cn_str1.split(' ')\n",
    "print(cn_lst1)"
   ]
  },
  {
   "cell_type": "code",
   "execution_count": null,
   "metadata": {
    "slideshow": {
     "slide_type": "-"
    }
   },
   "outputs": [],
   "source": [
    "cn_str1_comma = ','.join(cn_lst1)\n",
    "cn_str1_comma"
   ]
  },
  {
   "cell_type": "markdown",
   "metadata": {
    "slideshow": {
     "slide_type": "slide"
    }
   },
   "source": [
    "## 中文自然语言处理工具\n",
    "1. Jieba\n",
    "安装方法：pip install jieba\n",
    "\n",
    "源代码库：https://github.com/fxsjy/jieba\n",
    "\n",
    "2. SimpleChinese2\n",
    "\n",
    "安装方法：pip install simplechinese\n",
    "\n",
    "源代码库：https://github.com/zachary822/chinese-converter\n"
   ]
  },
  {
   "cell_type": "code",
   "execution_count": null,
   "metadata": {
    "scrolled": true,
    "slideshow": {
     "slide_type": "subslide"
    }
   },
   "outputs": [],
   "source": [
    "import simplechinese as sc\n",
    "x = \"今天是2021年9月28日。Thank you.   \"\n",
    "print(sc.only_digits(x))         # 仅保留数字\n",
    "print(sc.only_zh(x))             # 仅保留中文\n",
    "print(sc.only_en(x))             # 仅保留英文\n",
    "print(sc.remove_space(x))        # 去除空格\n",
    "print(sc.remove_digits(x))       # 去除数字\n",
    "print(sc.remove_zh(x))           # 去除中文\n",
    "print(sc.remove_en(x))           # 去除英文\n",
    "print(sc.remove_punctuations(x)) # 去除标点符号"
   ]
  },
  {
   "cell_type": "markdown",
   "metadata": {},
   "source": [
    "## 简繁转换\n",
    "使用chinese_converter实现"
   ]
  },
  {
   "cell_type": "code",
   "execution_count": null,
   "metadata": {
    "scrolled": true
   },
   "outputs": [],
   "source": [
    "x = \"陕西师范大学123\"\n",
    "print(sc.to_traditional(x))  # 转换为繁体"
   ]
  },
  {
   "cell_type": "code",
   "execution_count": null,
   "metadata": {},
   "outputs": [],
   "source": [
    "x = \"陝西師範大學123\"\n",
    "print(sc.to_simplified(x))  # 转换为简体"
   ]
  },
  {
   "cell_type": "markdown",
   "metadata": {
    "slideshow": {
     "slide_type": "slide"
    }
   },
   "source": [
    "## 统计词数、字符数"
   ]
  },
  {
   "cell_type": "code",
   "execution_count": null,
   "metadata": {
    "scrolled": false,
    "slideshow": {
     "slide_type": "subslide"
    }
   },
   "outputs": [],
   "source": [
    "import pandas as pd\n",
    "\n",
    "train = pd.read_csv('data/train_E6oV3lV.csv')\n",
    "train['word_count'] = train['tweet'].apply(lambda x: len(str(x).split(\" \")))\n",
    "train[['tweet', 'word_count']].head()"
   ]
  },
  {
   "cell_type": "code",
   "execution_count": null,
   "metadata": {
    "slideshow": {
     "slide_type": "subslide"
    }
   },
   "outputs": [],
   "source": [
    "train['char_count'] = train['tweet'].str.len() ## this also includes spaces\n",
    "train[['tweet','char_count']].head()"
   ]
  },
  {
   "cell_type": "markdown",
   "metadata": {
    "slideshow": {
     "slide_type": "slide"
    }
   },
   "source": [
    "## 高级文本处理\n",
    "\n",
    "文本到语音\n"
   ]
  },
  {
   "cell_type": "code",
   "execution_count": null,
   "metadata": {},
   "outputs": [],
   "source": [
    "from nltk.stem import PorterStemmer\n",
    "st = PorterStemmer()\n",
    "train['tweet'][:5].apply(lambda x: \" \".join([st.stem(word) for word in x.split()]))"
   ]
  },
  {
   "cell_type": "code",
   "execution_count": null,
   "metadata": {},
   "outputs": [],
   "source": []
  }
 ],
 "metadata": {
  "celltoolbar": "幻灯片",
  "kernelspec": {
   "display_name": "Python 3",
   "language": "python",
   "name": "python3"
  },
  "language_info": {
   "codemirror_mode": {
    "name": "ipython",
    "version": 3
   },
   "file_extension": ".py",
   "mimetype": "text/x-python",
   "name": "python",
   "nbconvert_exporter": "python",
   "pygments_lexer": "ipython3",
   "version": "3.8.3"
  },
  "rise": {
   "scroll": true,
   "theme": "serif",
   "transition": "zoom"
  },
  "varInspector": {
   "cols": {
    "lenName": 16,
    "lenType": 16,
    "lenVar": 40
   },
   "kernels_config": {
    "python": {
     "delete_cmd_postfix": "",
     "delete_cmd_prefix": "del ",
     "library": "var_list.py",
     "varRefreshCmd": "print(var_dic_list())"
    },
    "r": {
     "delete_cmd_postfix": ") ",
     "delete_cmd_prefix": "rm(",
     "library": "var_list.r",
     "varRefreshCmd": "cat(var_dic_list()) "
    }
   },
   "types_to_exclude": [
    "module",
    "function",
    "builtin_function_or_method",
    "instance",
    "_Feature"
   ],
   "window_display": false
  }
 },
 "nbformat": 4,
 "nbformat_minor": 4
}
