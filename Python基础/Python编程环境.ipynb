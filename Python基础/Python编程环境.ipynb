{
 "cells": [
  {
   "cell_type": "markdown",
   "metadata": {
    "slideshow": {
     "slide_type": "slide"
    }
   },
   "source": [
    "## Python环境安装\n",
    "Python编程语言所编写的代码运行需要计算机中有Python环境的支持，因此首先需要在个人电脑上安装Python运行环境。\n",
    "\n",
    "**1. Python官网**\n",
    "\n",
    "Python官网：https://www.python.org/downloads/ 最新版本：3.9.7（2021年9月）\n",
    "\n",
    "**Python包管理: pip**\n",
    "- 安装包\n",
    "```python\n",
    "pip install 包名称\n",
    "```\n",
    "- 安装特定版本的包\n",
    "```python\n",
    "pip install 包名称==1.0.4（指定的版本）（如web框架pip install django==1.7)\n",
    "```\n",
    "- 查看安装的包\n",
    "```python\n",
    "pip list\n",
    "```"
   ]
  },
  {
   "cell_type": "markdown",
   "metadata": {
    "slideshow": {
     "slide_type": "subslide"
    }
   },
   "source": [
    "**Python包管理: pip**\n",
    "- 升级pip本身\n",
    "```python\n",
    "pip instal --upgrade pip\n",
    "```\n",
    "- 升级包\n",
    "```python\n",
    "pip upgrade 包名称\n",
    "```\n",
    "- 卸载包\n",
    "```python\n",
    "pip uninstall 包名称\n",
    "```\n",
    "- 参数解释\n",
    "```python\n",
    "pip -h\n",
    "```"
   ]
  },
  {
   "cell_type": "markdown",
   "metadata": {
    "slideshow": {
     "slide_type": "subslide"
    }
   },
   "source": [
    "## 使用国内源管理包\n",
    "\n",
    "### 国内源\n",
    "1. 阿里镜像：https://mirrors.aliyun.com/pypi/simple/\n",
    "2. 清华镜像：https://pypi.tuna.tsinghua.edu.cn/simple\n",
    "\n",
    "### pip设置\n",
    "\n",
    "第1步：命令行/终端使用命令pip config list 查看当前 pip 的配置\n",
    "第2步：修改配置文件\n",
    "\n",
    "```Python\n",
    "pip config set global.index-url https://mirrors.aliyun.com/pypi/simple/\n",
    "\n",
    "pip config set install.trusted-host mirrors.aliyun.com\n",
    "```"
   ]
  },
  {
   "cell_type": "markdown",
   "metadata": {
    "slideshow": {
     "slide_type": "subslide"
    }
   },
   "source": [
    "### conda设置\n",
    "清华镜像\n",
    "\n",
    "方法：修改用户目录下的.condarc文件（Linux平台路径：~/.condarc)\n",
    "\n",
    "Windows用户可以使用命令生成该文件：\n",
    "\n",
    "```Python\n",
    "conda config --set show_channel_urls yes\n",
    "```\n"
   ]
  },
  {
   "cell_type": "markdown",
   "metadata": {
    "slideshow": {
     "slide_type": "subslide"
    }
   },
   "source": [
    "``` Python\n",
    "channels:\n",
    "  - defaults\n",
    "show_channel_urls: true\n",
    "channel_alias: https://mirrors.tuna.tsinghua.edu.cn/anaconda\n",
    "default_channels:\n",
    "  - https://mirrors.tuna.tsinghua.edu.cn/anaconda/pkgs/main\n",
    "  - https://mirrors.tuna.tsinghua.edu.cn/anaconda/pkgs/free\n",
    "  - https://mirrors.tuna.tsinghua.edu.cn/anaconda/pkgs/r\n",
    "  - https://mirrors.tuna.tsinghua.edu.cn/anaconda/pkgs/pro\n",
    "  - https://mirrors.tuna.tsinghua.edu.cn/anaconda/pkgs/msys2\n",
    "custom_channels:\n",
    "  conda-forge: https://mirrors.tuna.tsinghua.edu.cn/anaconda/cloud\n",
    "  msys2: https://mirrors.tuna.tsinghua.edu.cn/anaconda/cloud\n",
    "  bioconda: https://mirrors.tuna.tsinghua.edu.cn/anaconda/cloud\n",
    "  menpo: https://mirrors.tuna.tsinghua.edu.cn/anaconda/cloud\n",
    "  pytorch: https://mirrors.tuna.tsinghua.edu.cn/anaconda/cloud\n",
    "  simpleitk: https://mirrors.tuna.tsinghua.edu.cn/anaconda/cloud\n",
    "```"
   ]
  },
  {
   "cell_type": "markdown",
   "metadata": {
    "slideshow": {
     "slide_type": "subslide"
    }
   },
   "source": [
    "**2. Anaconda: The Most Popular Python Data Science Platform 最流行的Python数据科学平台**\n",
    "\n",
    "Anaconda官网：https://www.anaconda.com/\n",
    "\n",
    "Anaconda安装包比较大，建议使用国内镜像地址下载安装包。\n",
    "清华大学的镜像服务器：https://mirrors.tuna.tsinghua.edu.cn/anaconda/archive/\n",
    "\n",
    "**Python包管理: conda**\n",
    "- 安装包\n",
    "```python\n",
    "conda install 包名称\n",
    "```\n",
    "- 查看安装的包\n",
    "```python\n",
    "conda list\n",
    "```\n",
    "- 更新包\n",
    "```python\n",
    "conda update 包名称\n",
    "```"
   ]
  },
  {
   "cell_type": "markdown",
   "metadata": {
    "slideshow": {
     "slide_type": "subslide"
    }
   },
   "source": [
    "**Python包管理: conda**\n",
    "- 更新所有包\n",
    "```python\n",
    "conda update --all\n",
    "```\n",
    "- 升级conda\n",
    "```python\n",
    "conda update conda\n",
    "```\n",
    "- 升级anaconda\n",
    "```python\n",
    "conda update anaconda\n",
    "```"
   ]
  },
  {
   "cell_type": "markdown",
   "metadata": {
    "slideshow": {
     "slide_type": "slide"
    }
   },
   "source": [
    "## 虚拟环境"
   ]
  },
  {
   "cell_type": "markdown",
   "metadata": {
    "slideshow": {
     "slide_type": "slide"
    }
   },
   "source": [
    "## 云端运行Python代码\n",
    "推荐：https://mybinder.org\n",
    "\n",
    "需要结合git托管代码库，将代码放在git库中，在mybinder.org上提供代码的地址，该网站会自动构建一个虚拟运行环境（基于Jupyterlab的），并且将我们的代码从托管代码库中“克隆“到虚拟环境中，提供运行必要的支持：CPU、内存等。\n",
    "\n",
    "常用的\n",
    "1. github\n",
    "\n",
    "2. gitee"
   ]
  },
  {
   "cell_type": "code",
   "execution_count": null,
   "metadata": {
    "slideshow": {
     "slide_type": "subslide"
    }
   },
   "outputs": [],
   "source": []
  }
 ],
 "metadata": {
  "celltoolbar": "幻灯片",
  "kernelspec": {
   "display_name": "Python 3",
   "language": "python",
   "name": "python3"
  },
  "language_info": {
   "codemirror_mode": {
    "name": "ipython",
    "version": 3
   },
   "file_extension": ".py",
   "mimetype": "text/x-python",
   "name": "python",
   "nbconvert_exporter": "python",
   "pygments_lexer": "ipython3",
   "version": "3.8.3"
  },
  "varInspector": {
   "cols": {
    "lenName": 16,
    "lenType": 16,
    "lenVar": 40
   },
   "kernels_config": {
    "python": {
     "delete_cmd_postfix": "",
     "delete_cmd_prefix": "del ",
     "library": "var_list.py",
     "varRefreshCmd": "print(var_dic_list())"
    },
    "r": {
     "delete_cmd_postfix": ") ",
     "delete_cmd_prefix": "rm(",
     "library": "var_list.r",
     "varRefreshCmd": "cat(var_dic_list()) "
    }
   },
   "types_to_exclude": [
    "module",
    "function",
    "builtin_function_or_method",
    "instance",
    "_Feature"
   ],
   "window_display": false
  }
 },
 "nbformat": 4,
 "nbformat_minor": 4
}
