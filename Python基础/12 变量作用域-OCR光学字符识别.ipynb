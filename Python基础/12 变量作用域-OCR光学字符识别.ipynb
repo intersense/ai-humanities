{
 "cells": [
  {
   "cell_type": "markdown",
   "id": "3a6cb337",
   "metadata": {
    "slideshow": {
     "slide_type": "slide"
    }
   },
   "source": [
    "## 变量的作用域\n",
    "\n",
    "Python中，变量并不是在哪个位置都可以访问的，访问权限决定于这个变量是在哪里赋值的。变量的作用域是由它在源代码中的位置决定的。\n",
    "\n",
    "### 作用域\n",
    "\n",
    "作用域是针对变量而言，指申明的变量在程序里的可应用范围，或者称为变量的可见性。变量的作用域是由它在源代码中的位置决定的。\n",
    "\n",
    "变量的作用域决定了在哪一部分程序可以访问哪个特定的变量名称。\n",
    "\n",
    "#### Python的作用域一共有4种，分别是：\n",
    "\n",
    "1. L （Local） 局部作用域: 在函数被调用时才被创建，但函数返回结果或抛出异常时被删除。（每一个递归函数都拥有自己的命名空间）。\n",
    "2. E （Enclosing） 闭包函数外的函数中\n",
    "3. G （Global） 全局作用域: 在模块被加载时创建，通常一直保留直到python解释器退出。\n",
    "4. B （Built-in） 内建作用域: 在python解释器启动时创建，一直保留直到解释器退出。\n",
    "\n",
    "各命名空间创建顺序：python解释器启动 -> 创建内建命名空间 -> 加载模块 -> 创建全局命名空间 ->函数被调用 -> 创建局部命名空间\n",
    "\n",
    "各命名空间销毁顺序：函数调用结束 -> 销毁函数对应的局部命名空间 -> python虚拟机（解释器）退出 -> 销毁全局命名空间 -> 销毁内建命名空间\n",
    "\n",
    "python解释器加载阶段会创建出内建命名空间、模块的全局命名空间，局部命名空间是在运行阶段函数被调用时动态创建出来的，函数调用结束动态的销毁的。\n",
    "\n",
    "Python以 L –> E –> G –>B 的规则查找，即：在局部找不到，便会去局部外的局部找（例如闭包），再找不到就会去全局找，再者去内建中找。\n",
    "\n",
    "x = int(2.9)  # 内建作用域\n",
    " \n",
    "g_count = 0  # 全局作用域\n",
    "def outer():\n",
    "    o_count = 1  # 闭包函数外的函数中\n",
    "    def inner():\n",
    "        i_count = 2  # 局部作用域\n",
    "\n",
    "定义在函数内部的变量拥有一个局部作用域，定义在函数外的拥有全局作用域。\n",
    "\n",
    "Python 中只有模块（module），类（class）以及函数（def、lambda）才会引入新的作用域，其它的代码块（如 if/elif/else/、try/except、for/while等）是不会引入新的作用域的，也就是说这这些语句内定义的变量，外部也可以访问。\n"
   ]
  },
  {
   "cell_type": "code",
   "execution_count": 10,
   "id": "be31fa56",
   "metadata": {
    "scrolled": true,
    "slideshow": {
     "slide_type": "slide"
    }
   },
   "outputs": [
    {
     "name": "stdout",
     "output_type": "stream",
     "text": [
      "102\n"
     ]
    }
   ],
   "source": [
    "a = 100\n",
    "\n",
    "# 定义函数\n",
    "def change_a():\n",
    "    global a\n",
    "    a += 2\n",
    "\n",
    "# 调用函数\n",
    "change_a()\n",
    "\n",
    "print(a)"
   ]
  },
  {
   "cell_type": "code",
   "execution_count": 2,
   "id": "461dfd14",
   "metadata": {},
   "outputs": [
    {
     "name": "stdout",
     "output_type": "stream",
     "text": [
      "100\n"
     ]
    }
   ],
   "source": [
    "a = 100\n",
    "\n",
    "# 定义函数\n",
    "def change_a(a):\n",
    "    a += 2\n",
    "\n",
    "# 调用函数\n",
    "change_a(a)\n",
    "print(a)"
   ]
  },
  {
   "cell_type": "code",
   "execution_count": null,
   "id": "4fd1e459",
   "metadata": {},
   "outputs": [],
   "source": [
    "a = 100\n",
    "\n",
    "# 定义函数\n",
    "def change_a(a1):\n",
    "    \n",
    "    a1 += 2\n",
    "\n",
    "# 调用函数\n",
    "change_a(a)\n",
    "print(a)"
   ]
  },
  {
   "cell_type": "markdown",
   "id": "7c9add3b",
   "metadata": {
    "slideshow": {
     "slide_type": "slide"
    }
   },
   "source": [
    "## 函数的定义与使用\n",
    "\n",
    "函数参数\n",
    "\n",
    "- 意义\n",
    "    - 定义时\n",
    "    - 调用时\n",
    "- 作用范围\n"
   ]
  },
  {
   "cell_type": "markdown",
   "id": "cf10eac0",
   "metadata": {
    "slideshow": {
     "slide_type": "slide"
    }
   },
   "source": [
    "## 文件路径\n"
   ]
  },
  {
   "cell_type": "markdown",
   "id": "1fcf8f3e",
   "metadata": {
    "slideshow": {
     "slide_type": "slide"
    }
   },
   "source": [
    "<img src=\"./images/fakejiaoshi.jpeg\"></img>\n",
    "<img src=\"./images/fakejiaoshi02.png\"></img>"
   ]
  },
  {
   "cell_type": "markdown",
   "id": "7eea3d2c",
   "metadata": {
    "slideshow": {
     "slide_type": "slide"
    }
   },
   "source": [
    "## 元宇宙 Metaverse\n",
    "元宇宙概念起源于尼尔·斯蒂芬森的科幻小说《雪崩》，描述了一个人们以数字身份在多维空间中与各种软件进行交互的世界。 目前，关于元宇宙最有代表性的定义是，元宇宙是一个平行于现实世界，又独立于现实世界的虚拟空间，是映射现实世界的在线虚拟世界，是越来越真实的数字虚拟世界。\n",
    "\n",
    "### 元宇宙的要素\n",
    "\n",
    "元宇宙包括物质世界和虚拟世界，一个全面运作的经济，以及化身和数字资产在元宇宙不同部分的可转移性。\n",
    "\n",
    "元宇宙将会是去中心化的，将有许多公司和个人在元宇宙内经营自己的空间。\n",
    "\n",
    "元宇宙的其他特质包括数字持久化和同步，这意味着元宇宙中的所有事件都是实时发生的，并具有永久的影响。\n",
    "\n",
    "元宇宙生态系统包含了以用户为中心的要素，例如头像（Avatar）身份、内容创作、虚拟经济、社会可接受性、安全和隐私以及信任和责任。\n",
    "\n",
    "### 应用可能性\n",
    "\n",
    "1. 商业领域：元宇宙可以用于虚拟办公平台，用户可以在模拟办公环境的3D宇宙中进行虚拟协作。\n",
    "    - Facebook的Horizon Workrooms和微软的Mesh\n",
    "2. 教育领域：元宇宙可以被用来在任何地方和任何历史点进行实地考察。\n",
    "    - 2021年，英伟达公司正在开发一个名为Omniverse的元宇宙基础设施项目，该项目将允许世界各地的开发者实时合作，创建元宇宙内容创作软件。\n",
    "    - Together Labs公司也在研究创造逼真化身的技术，它将可以利用人工智能使历史人物仿似复活。\n",
    "3. 房地产领域：元宇宙可用于拟真的虚拟房屋参观。\n",
    "    - 购房者将可以在自己家里通过元宇宙参观位于世界任何地方的房屋：贝壳看房（360度全景看房，部分实现）\n",
    "    - Mars House，在2021年以50万美元售出的NFT房屋。\n",
    "    > NFT (Non-Fungible Token)非同质化代币是一种被称为区块链数位账本上的数据单位，每个代币可以代表一个独特的数码资料。由于其不能互换，非同质化代币可以代表数位文件，如画作、声音、影片、游戏中的项目或其他形式的创意作品。虽然文件本身是可以无限复制的，但代表它们的代币在其底层区块链上被追踪，并为买家提供所有权证明。"
   ]
  },
  {
   "cell_type": "markdown",
   "id": "fc5ad0f8",
   "metadata": {
    "slideshow": {
     "slide_type": "subslide"
    }
   },
   "source": [
    "## Everydays: The First 5000 Days\n",
    "\n",
    "<img src=\"./images/nft-art-1.jpeg\"></img>\n",
    "\n",
    "### Mike Winkelmann（Beeple）创作的数字艺术品。\n",
    "\n",
    "### 温克尔曼为他的“日常”系列创作的5000张数字图像的拼贴画。与之相关的非同质化代币在2021年在佳士得拍卖行以6940万美元的价格售出，是在世艺术家最昂贵的NFT作品之一。\n",
    "\n",
    "#### 2007年5月1日期每天创作一幅作品，即便是在他婚礼那天以及孩子出生那天，都坚持完成一幅作品，至今仍在继续，至今已经创作了超过5000幅作品。2020年2月，Winkelmann开始出售NFT艺术品。\n",
    "\n",
    "#### Everydays: The First 5000 Days是Everydays系列艺术品的拼图，2021年2月25日在佳士得挂拍，3月11日成交，成交价69,400,000美元。\n",
    "\n",
    "<img src='./images/Mike_Winkelmann.png'></img>\n",
    "- June 20, 1981 (age 40)\n",
    "- Other names\tBeeple\n",
    "- Occupation\tDigital artist\n",
    "- Years active\t2010–present\n",
    "- Notable work\n",
    "    - \"Everydays\", Everydays: the First 5000 Days\n"
   ]
  },
  {
   "cell_type": "code",
   "execution_count": 3,
   "id": "65baa94a",
   "metadata": {
    "slideshow": {
     "slide_type": "subslide"
    }
   },
   "outputs": [
    {
     "data": {
      "text/html": [
       "<video src=\"./videos/mars-house.mp4\" controls  width=\"720\" >\n",
       "      Your browser does not support the <code>video</code> element.\n",
       "    </video>"
      ],
      "text/plain": [
       "<IPython.core.display.Video object>"
      ]
     },
     "execution_count": 3,
     "metadata": {},
     "output_type": "execute_result"
    }
   ],
   "source": [
    "from IPython.display import Video\n",
    "Video(\"./videos/mars-house.mp4\", width=720)"
   ]
  },
  {
   "cell_type": "markdown",
   "id": "fdcd1c64",
   "metadata": {
    "slideshow": {
     "slide_type": "slide"
    }
   },
   "source": [
    "### 《元宇宙：一个广义通证经济的实践》（吴桐、王龙）《东北财经大学学报》\n",
    "元宇宙作为一个具备永续性、开放性、自治性和沉浸感等特征的高度发达的通证经济形态，符合现代经济的发展趋势。\n",
    "\n",
    "元宇宙的主要发展路径有“大互联网路线”和“基于区块链构建路线”两种\n",
    ">长期来看，“基于区块链构建路线”的元宇宙才能真正实现平行数字世界的目标，但互联网巨头是元宇宙生态的重要建设者，区块链提供的不可篡改性和互操作性至关重要。**元宇宙通过声音、图像、视频、文字等多种途径向现实世界传递信息，现实世界则主要通过预言机向元宇宙传递信息**。全球稳定币和央行数字货币是在价值维度链接两个世界的重要工具。\n",
    "\n",
    "元宇宙作为广义通证经济的高级业态，可促进虚实结合，推动相关硬件产业的发展，助力数字劳动范式建立，深化虚拟经济发展，并持续迭代和自我完善。\n",
    "\n",
    "元宇宙的世界虽然绚烂迷人、前途远大，但达到预期的状态仍需要各个条线的落地和突破。"
   ]
  },
  {
   "cell_type": "markdown",
   "id": "df421077",
   "metadata": {
    "slideshow": {
     "slide_type": "slide"
    }
   },
   "source": [
    "## 光学字符识别 OCR (Optical character recognition)\n",
    "光学字符识别是指对文本资料的图像文件进行分析识别处理，获取文字及版面信息的过程。"
   ]
  },
  {
   "cell_type": "markdown",
   "id": "31c18f50",
   "metadata": {
    "slideshow": {
     "slide_type": "slide"
    }
   },
   "source": [
    "### 中文OCR项目\n",
    "- cnocr\n",
    "    - cnocr 主要针对的是排版简单的印刷体文字图片，如截图图片，扫描件等。目前内置的文字检测和分行模块无法处理复杂的文字排版定位。\n",
    "    - 项目网址：https://github.com/breezedeus/cnocr\n",
    "    - 安装方法：pip install cnocr 或者使用国内源 pip install cnocr -i https://pypi.doubanio.com/simple"
   ]
  },
  {
   "cell_type": "markdown",
   "id": "78e72e39",
   "metadata": {
    "slideshow": {
     "slide_type": "slide"
    }
   },
   "source": [
    "## 英文OCR项目\n",
    "### Tesseract\n",
    "Tesseract是一个光学字符识别引擎，支持多种操作系统。Tesseract是基于Apache许可证的自由软件，自2006 年起由Google赞助开发。 2006年，Tesseract被认为是最精准的开源光学字符识别引擎之一。\n",
    "- https://github.com/tesseract-ocr/tesseract\n",
    "- "
   ]
  },
  {
   "cell_type": "code",
   "execution_count": 4,
   "id": "bad2c5b2",
   "metadata": {
    "slideshow": {
     "slide_type": "-"
    }
   },
   "outputs": [
    {
     "data": {
      "text/plain": [
       "<matplotlib.image.AxesImage at 0x7f97fe992f28>"
      ]
     },
     "execution_count": 4,
     "metadata": {},
     "output_type": "execute_result"
    },
    {
     "data": {
      "image/png": "[encoded data removed]",
      "text/plain": [
       "<Figure size 432x288 with 1 Axes>"
      ]
     },
     "metadata": {
      "needs_background": "light"
     },
     "output_type": "display_data"
    }
   ],
   "source": [
    "\n",
    "import matplotlib.pyplot as plt\n",
    "from PIL import Image\n",
    "img = Image.open('./data/ocr-images/snnu-history.png')\n",
    "plt.imshow(img)\n"
   ]
  },
  {
   "cell_type": "markdown",
   "id": "20ea0e2b",
   "metadata": {
    "slideshow": {
     "slide_type": "slide"
    }
   },
   "source": [
    "## 待识别图片（中文）\n",
    "<img src='./data/ocr-images/snnu-history.png'></img>"
   ]
  },
  {
   "cell_type": "code",
   "execution_count": 12,
   "id": "a6f4e245",
   "metadata": {
    "slideshow": {
     "slide_type": "-"
    }
   },
   "outputs": [
    {
     "name": "stdout",
     "output_type": "stream",
     "text": [
      "识别出的文本: [(['学', '校', '简', '介', '当', '前', '位', '置', '角', '。', '学', '校', '概', '况', '。', '学', '校', '简', '介'], 0.4155331254005432), (['陕', '西', '师', '范', '大', '学', '是', '教', '育', '部', '直', '属', '、', '世', '界', '一', '流', '学', '科', '建', '设', '高', '校', '，', '是', '国', '家', '培', '养', '高', '等', '院', '校', '、', '中', '等', '学', '校', '师', '资', '和', '教', '育', '管', '理', '干', '部', '以', '及', '其', '他', '高', '级', '专', '门', '人', '才', '的', '重', '要', '基', '地', '，', '被'], 0.7399356961250305), (['誉', '为', '“', '教', '师', '的', '摇', '篮', '”', '。'], 0.961676836013794), (['学', '校', '前', '身', '是', '1', '9', '4', '4', '年', '成', '立', '的', '陕', '西', '省', '立', '师', '范', '专', '科', '学', '校', '，', '1', '9', '5', '4', '年', '更', '名', '为', '西', '安', '师', '范', '学', '院', '，', '1', '9', '6', '0', '年', '与', '陕', '西', '师', '范', '学', '院', '合', '并', '，', '定', '名', '为', '陕', '西', '师', '范', '大', '学', '，', '1', '9', '7', '8', '年', '划', '归'], 0.5006726384162903), (['教', '育', '部', '直', '属', '。', '建', '校', '7', '0', '多', '年', '来', '，', '学', '校', '秉', '承', '“', '西', '部', '红', '烛', '精', '神', '”', '和', '“', '厚', '德', '、', '积', '学', '、', '励', '志', '、', '敦', '行', '”', '的', '优', '良', '传', '统', '，', '立', '足', '西', '部', '，', '服', '务', '全', '国', '，', '已', '发', '展', '成', '为', '一', '所', '有', '重', '要', '影'], 0.7040741443634033), (['响', '的', '综', '合', '性', '一', '流', '师', '范', '大', '学', '，', '为', '国', '家', '培', '养', '各', '类', '毕', '业', '生', '4', '7', '.', '1', '万', '余', '人', '，', '形', '成', '了', '“', '抱', '道', '不', '曲', '、', '拥', '书', '自', '雄', '”', '的', '学', '风', '和', '“', '淳', '厚', '博', '雅', '、', '知', '行', '合', '一', '”', '的', '校', '风', '。', '现', '任', '党', '委', '书'], 0.6359952092170715), (['记', '李', '忠', '军', '教', '授', '，', '校', '长', '游', '旭', '群', '教', '授', '。'], 0.9966357350349426)]\n"
     ]
    }
   ],
   "source": [
    "from cnocr import CnOcr\n",
    "ocr = CnOcr()\n",
    "res = ocr.ocr('./data/ocr-images/test.png')\n",
    "print(\"识别出的文本:\", res)"
   ]
  },
  {
   "cell_type": "markdown",
   "id": "fd357f0d",
   "metadata": {
    "slideshow": {
     "slide_type": "subslide"
    }
   },
   "source": [
    "## 待识别图片（中文）\n",
    "<img src='./images/fakejiaoshi.jpeg'></img>"
   ]
  },
  {
   "cell_type": "code",
   "execution_count": 7,
   "id": "1c611d8d",
   "metadata": {
    "scrolled": true,
    "slideshow": {
     "slide_type": "-"
    }
   },
   "outputs": [
    {
     "name": "stdout",
     "output_type": "stream",
     "text": [
      "识别出的文本: [(['G', '1', '2', '5'], 0.2999095022678375), (['法', '科', '教', '师', '可', '以', '努', '力', '的', '限', '度'], 0.984237015247345), (['一', '网', '茶', '装', '师', '对', '徽', '始', '的', '政', '功', '教', '育', '为', '中', '心'], 0.11467499285936356), (['O', '蒋', '志', '如', '*'], 0.4318734407424927), (['与', '出', '押', '、', '养', '河', '两', '政', '艺', '茶', '荟', '傅', '迎', '染', '修', '太', '行', '节', '拉', '气', '剪', '典', '和', '-', '帮'], 0.040901146829128265), (['年', '权', '希', '车', '单', '爆', '”', '类', '美', '”', '而', '茄', '琴', '面', '的', '花', '茶', '”', '装', '型', '誉', ':', '中'], 0.05664908140897751), (['花', '着', '女', '为', '称', '地', '发', '、', '点', '发', '太', '麦', '节', '学', '集', '幼', '爱', '展', '公', '发', '做', '发', '华', '供', '。'], 0.08361126482486725), (['A', '本', '星', '公', '教', '央', '舰', '研', '布', ':', '2', '称', '型', '机', '、', '的', '教', '第', '4', '”', '要', '弗', '的'], 0.06711133569478989), (['姻', '楚', '动', '美', '的', '坊', '花', '艺', '米', '如', '她', '珠', '年', '品', '为', '务', '艺', '为', '教', '放', '发', '碍', '菜', '型', '以', '理'], 0.06914223730564117), (['察', '到', '。', '对', '照', '中', '国', '法', '学', '教', '育', '，', '由', '于', '考', '核', '、', '科', '研', '等', '压', '力', '及', '收'], 0.9950814247131348), (['学', '教', ':', '。', '带', '杰', '加', '，', '兰', '州', '大', '平', '法', '李', '院', '服', '教', '授', '，', '法', '学', '游', '士', '。', '研', '免', '方', '向', '；', '刑', '要', '诉', '验', '法', '学', '、', '法'], 0.0944492369890213)]\n"
     ]
    }
   ],
   "source": [
    "ocr = CnOcr()\n",
    "res = ocr.ocr('./images/fakejiaoshi.jpeg')\n",
    "print(\"识别出的文本:\", res)\n"
   ]
  },
  {
   "cell_type": "markdown",
   "id": "c0bf1c29",
   "metadata": {
    "slideshow": {
     "slide_type": "slide"
    }
   },
   "source": [
    "## 待识别图片（英文）\n",
    "<img src='./data/ocr-images/english.png'></img>"
   ]
  },
  {
   "cell_type": "code",
   "execution_count": 6,
   "id": "9d79521e",
   "metadata": {
    "slideshow": {
     "slide_type": "-"
    }
   },
   "outputs": [
    {
     "name": "stdout",
     "output_type": "stream",
     "text": [
      "识别出的文本: [(['A', 'b', 's', 't', 'r', 'a', 'c', 't', ':'], 0.8939179182052612), (['T', 'h', 'i', 's', ' ', 'p', 'a', 'p', 'e', 'r', ' ', 'p', 'r', 'e', 's', 'e', 'n', 't', 's', ' ', 'a', 'n', ' ', 'a', 'p', 'p', 'r', 'o', 'a', 'c', 'h', ' ', 't', 'o', ' ', 'p', 'r', 'o', 'c', 'e', 'e', 'd', ' ', 'w', 'i', 't', 'h', ' ', 's', 'e', 'm', 'a', 'n', 't', 'i', 'c', ' ', 'a', 'n', 'n', 'o', 't', 'a', 't', 'i', 'o', 'n', ' ', 'i', 'n', ' ', 'h', 'i', 's', 't', 'o', 'r', 'i', 'c', 'a', 'l', ' ', 'd', 'o', 'c', 'u', 'm', 'e', 'n', 't', 's', ' ', 'f', 'r', 'o', 'm', ' ', 't', 'h', 'e', ' ', '1', '9', 't', 'h', ' ', 'c', 'e', 'n', 't', 'u', 'r', 'y', ' ', 't', 'h', 'a', 't', ' ', 'd', 'i', 's', 'c', 'u', 's', 's', ' ', 't', 'h', 'e'], 0.5025259256362915), (['c', 'o', 'n', 's', 't', 'i', 't', 'u', 't', 'i', 'o', 'n', ' ', 'o', 'f', ' ', 't', 'h', 'e', ' ', 'm', 'o', 't', 'h', 'e', 'r', ' ', 'l', 'a', 'n', 'g', 'u', 'a', 'g', 'e', ',', ' ', 't', 'h', 'e', ' ', 'P', 'o', 'r', 't', 'u', 'g', 'u', 'e', 's', 'e', ' ', 'L', 'a', 'n', 'g', 'u', 'a', 'g', 'e', ' ', 'i', 'n', ' ', 'B', 'r', 'a', 'z', 'i', 'l', '.', ' ', 'T', 'h', 'e', ' ', 'o', 'b', 'j', 'e', 'c', 't', 'i', 'v', 'e', ' ', 'i', 's', ' ', 't', 'o', ' ', 'g', 'e', 'n', 'e', 'r', 'a', 't', 'e', ' ', 'a', ' ', 'g', 'r', 'o', 'u', 'p', ' ', 'o', 'f', ' ', 's', 'e', 'm', 'a', 'n', 't', 'i', 'c', 'a', 'l', 'l', 'y', ' ', 'a', 'n', 'n', 'o', 't', 'a', 't', 'e', 'd'], 0.5492265820503235), (['d', 'o', 'c', 'u', 'm', 'e', 'n', 't', 's', ' ', 'i', 'n', ' ', 'a', 'g', 'r', 'e', 'e', 'm', 'e', 'n', 't', ' ', 'w', 'i', 't', 'h', ' ', 'a', ' ', 'd', 'o', 'm', 'a', 'i', 'n', ' ', 'o', 'n', 't', 'o', 'l', 'o', 'g', 'y', '.', ' ', 'T', 'o', ' ', 'p', 'r', 'o', 'v', 'i', 'd', 'e', ' ', 't', 'h', 'i', 's', ' ', 'd', 'o', 'm', 'a', 'i', 'n', ' ', 'o', 'n', 't', 'o', 'l', 'o', 'g', 'y', ',', ' ', 't', 'h', 'e', ' ', 'L', 'i', 'n', 'g', 'u', 'i', 's', 't', 'i', 'c', ' ', 'I', 'n', 's', 't', 'r', 'u', 'm', 'e', 'n', 't', ' ', 'O', 'n', 't', 'o', 'l', 'o', 'g', 'y', ' ', 'w', 'a', 's', ' ', 'e', 'm', 'p', 'l', 'o', 'y', 'e', 'd', ',', ' ', 'a', 'n', 'd', ' ', 'i', 't'], 0.5030150413513184), (['s', 'u', 'p', 'p', 'o', 'r', 't', 'e', 'd', ' ', 't', 'h', 'e', ' ', 'p', 'r', 'o', 'c', 'e', 's', 's', ' ', 'o', 'f', ' ', 'a', 'u', 't', 'o', 'm', 'a', 't', 'i', 'c', ' ', 's', 'e', 'm', 'a', 'n', 't', 'i', 'c', ' ', 'a', 'n', 'n', 'o', 't', 'a', 't', 'i', 'o', 'n', '.', ' ', 'T', 'h', 'e', ' ', 'r', 'e', 's', 'u', 'l', 't', 's', ' ', 'o', 'b', 't', 'a', 'i', 'n', 'e', 'd', ' ', 'w', 'i', 't', 'h', ' ', 't', 'h', 'e', ' ', 'a', 'n', 'n', 'o', 't', 'a', 't', 'i', 'o', 'n', ' ', 'w', 'e', 'r', 'e', ' ', 'a', 'n', 'a', 'l', 'y', 'z', 'e', 'd', ' ', 'i', 'n', ' ', 'c', 'o', 'm', 'p', 'a', 'r', 'i', 's', 'o', 'n', ' ', 'w', 'i', 't', 'h', ' ', 't', 'h', 'e', ' ', 'G', 'o', 'l', 'd'], 0.49744731187820435), (['S', 't', 'a', 'n', 'd', 'a', 'r', 'd', ' ', 'a', 'n', 'd', ' ', 't', 'h', 'e', 'y', ' ', 'p', 'r', 'e', 's', 'e', 'n', 't', 'e', 'd', ' ', 'a', 'n', ' ', 'e', 'l', 'e', 'v', 'a', 't', 'e', 'd', ' ', 'l', 'e', 'v', 'e', 'l', ' ', 'o', 'f', ' ', 'c', 'o', 'i', 'n', 'c', 'i', 'd', 'e', 'n', 'c', 'e', ',', ' ', 'b', 'e', 't', 'w', 'e', 'e', 'n', ' ', '0', '.', '8', '6', ' ', 'a', 'n', 'd', ' ', '1', '.', '0', '0', ' ', 'f', 'o', 'r', ' ', 't', 'h', 'e', ' ', 'F', 'l', '-', 's', 'c', 'o', 'r', 'e', ' ', 'm', 'e', 'a', 's', 'u', 'r', 'e', '.', ' ', 'B', 'e', 's', 'i', 'd', 'e', 's', ' ', 't', 'h', 'a', 't', ',', ' ', 'i', 't', ' ', 'w', 'a', 's', ' ', 'p', 'o', 's', 's', 'i', 'b', 'l', 'e', ' ', 't', 'o'], 0.4581920802593231), (['l', 'o', 'c', 'a', 't', 'e', ' ', 'n', 'e', 'w', ' ', 'd', 'o', 'c', 'u', 'm', 'e', 'n', 't', 's', ' ', 'a', 'b', 'o', 'u', 't', ' ', 't', 'h', 'e', ' ', 'd', 'i', 's', 'c', 'u', 's', 's', 'e', 'd', ' ', 'd', 'o', 'm', 'a', 'i', 'n', ' ', 'i', 'n', ' ', 'a', ' ', 's', 'a', 'm', 'p', 'l', 'e', ' ', 'o', 'f', ' ', 't', 'h', 'e', ' ', 'R', 'e', 'v', 'i', 's', 't', 'a', 's', ' ', 'B', 'r', 'a', 'z', 'i', 'l', 'e', 'i', 'r', 'a', 's', '.', ' ', 'T', 'h', 'e', 's', 'e', ' ', 'r', 'e', 's', 'u', 'l', 't', 's', ' ', 'p', 'r', 'o', 'v', 'e', ' ', 't', 'h', 'e', ' ', 'e', 'f', 'f', 'i', 'c', 'a', 'c', 'y', ' ', 'o', 'f', ' ', 't', 'h', 'e', ' ', 'a', 'p', 'p', 'r', 'o', 'a', 'c', 'h', ' ', 'o', 'f'], 0.48913902044296265), (['a', 'u', 't', 'o', 'm', 'a', 't', 'i', 'c', ' ', 's', 'e', 'm', 'a', 'n', 't', 'i', 'c', ' ', 'a', 'n', 'n', 'o', 't', 'a', 't', 'i', 'o', 'n', '.'], 0.6276637315750122)]\n"
     ]
    }
   ],
   "source": [
    "ocr = CnOcr()\n",
    "res = ocr.ocr('./data/ocr-images/english.png')\n",
    "print(\"识别出的文本:\", res)"
   ]
  },
  {
   "cell_type": "markdown",
   "id": "706e8091",
   "metadata": {},
   "source": [
    "## 待识别图片\n",
    "<img src='./data/pdf-images/0174.jpg'></img>"
   ]
  },
  {
   "cell_type": "code",
   "execution_count": 13,
   "id": "f2be4b24",
   "metadata": {},
   "outputs": [
    {
     "name": "stdout",
     "output_type": "stream",
     "text": [
      "识别出的文字: [([], 0.24518021941184998)]\n"
     ]
    }
   ],
   "source": [
    "from cnocr import CnOcr\n",
    "ocr = CnOcr()\n",
    "res = ocr.ocr('./data/pdf-images/0174.jpg')\n",
    "print(\"识别出的文字:\", res)"
   ]
  },
  {
   "cell_type": "markdown",
   "id": "25473d81",
   "metadata": {
    "slideshow": {
     "slide_type": "slide"
    }
   },
   "source": [
    "## Tesseract安装方法\n",
    "\n",
    "1. pip install pytesseract\n",
    "\n",
    "2. 需要安装tesseract应用程序\n",
    "\n",
    "-  Windows\n",
    "https://tesseract-ocr.github.io/tessdoc/Downloads.html\n",
    "\n",
    "- Ubuntu\n",
    "\n",
    "$ sudo apt install tesseract-ocr\n",
    "\n",
    "$ sudo apt install libtesseract-dev\n",
    "\n",
    "- Mac\n",
    "\n",
    "brew install tesseract"
   ]
  },
  {
   "cell_type": "code",
   "execution_count": 9,
   "id": "7b4a3324",
   "metadata": {
    "slideshow": {
     "slide_type": "subslide"
    }
   },
   "outputs": [
    {
     "name": "stdout",
     "output_type": "stream",
     "text": [
      "Collecting pytesseract\n",
      "  Downloading https://mirrors.aliyun.com/pypi/packages/a3/c9/d6e8903482bd6fb994c32722831d15842dd8b614f94ad9ca735807252671/pytesseract-0.3.8.tar.gz\n",
      "Collecting Pillow (from pytesseract)\n",
      "Building wheels for collected packages: pytesseract\n",
      "  Running setup.py bdist_wheel for pytesseract ... \u001b[?25ldone\n",
      "\u001b[?25h  Stored in directory: /home/guangwei/.cache/pip/wheels/64/30/c5/ccde9b41d13fff37b43b202ea6a558271ed722d1ff39476fea\n",
      "Successfully built pytesseract\n",
      "Installing collected packages: Pillow, pytesseract\n",
      "Successfully installed Pillow-8.4.0 pytesseract-0.3.8\n",
      "Note: you may need to restart the kernel to use updated packages.\n"
     ]
    }
   ],
   "source": [
    "pip install pytesseract"
   ]
  },
  {
   "cell_type": "markdown",
   "id": "7986debb",
   "metadata": {
    "slideshow": {
     "slide_type": "subslide"
    }
   },
   "source": [
    "## 待识别图片（英文）\n",
    "<img src='./data/ocr-images/english.png'></img>"
   ]
  },
  {
   "cell_type": "code",
   "execution_count": 14,
   "id": "22346bf5",
   "metadata": {
    "slideshow": {
     "slide_type": "-"
    }
   },
   "outputs": [
    {
     "name": "stdout",
     "output_type": "stream",
     "text": [
      "Abstract:\n",
      "\n",
      "This paper presents an approach to proceed with semantic annotation in historical documents from the 19th century that discuss the\n",
      "constitution of the mother language, the Portuguese Language in Brazil. The objective is to generate a group of semantically annotated\n",
      "documents in agreement with a domain ontology. To provide this domain ontology, the Linguistic Instrument Ontology was employed, and it\n",
      "supported the process of automatic semantic annotation. The results obtained with the annotation were analyzed in comparison with the Gold\n",
      "Standard and they presented an elevated level of coincidence, between 0.86 and 1.00 for the F1-score measure. Besides that, it was possible to\n",
      "\n",
      "locate new documents about the discussed domain in a sample of the Revistas Brazileiras. These results prove the efficacy of the approach of\n",
      "automatic semantic annotation.\n",
      "\f\n",
      "\n"
     ]
    }
   ],
   "source": [
    "import pytesseract\n",
    "from PIL import Image\n",
    "\n",
    "image = Image.open('./data/ocr-images/english.png')\n",
    "code = pytesseract.image_to_string(image, lang='eng')\n",
    "print(code)"
   ]
  },
  {
   "cell_type": "code",
   "execution_count": 15,
   "id": "188872b1",
   "metadata": {
    "slideshow": {
     "slide_type": "-"
    }
   },
   "outputs": [
    {
     "name": "stdout",
     "output_type": "stream",
     "text": [
      "<class 'str'>\n"
     ]
    }
   ],
   "source": [
    "print(type(code))"
   ]
  },
  {
   "cell_type": "code",
   "execution_count": 4,
   "id": "98432e7d",
   "metadata": {
    "slideshow": {
     "slide_type": "-"
    }
   },
   "outputs": [
    {
     "name": "stdout",
     "output_type": "stream",
     "text": [
      "869\n"
     ]
    }
   ],
   "source": [
    "print(len(code))"
   ]
  },
  {
   "cell_type": "markdown",
   "id": "de7ddd35",
   "metadata": {
    "slideshow": {
     "slide_type": "slide"
    }
   },
   "source": [
    "## 作业\n",
    "\n",
    "使用cnocr或Tesseract实现一个pdf文件（未识别）中文本的按页提取文本\n",
    "\n",
    "1. 上周作业pdf2images\n",
    "2. 本周作业images2txt\n",
    "3. 文本保存在txt文本文件中\n",
    "\n",
    "## 要求：以小组为单位提交，提交内容：（1）待识别的pdf文件（2）ipyn代码文件\n",
    "## 命名方式：小组名-组长.zip\n",
    "## 提交时间：11月22日（周一） 20:00"
   ]
  }
 ],
 "metadata": {
  "celltoolbar": "幻灯片",
  "citation-manager": {
   "items": {}
  },
  "kernelspec": {
   "display_name": "Python 3",
   "language": "python",
   "name": "python3"
  },
  "language_info": {
   "codemirror_mode": {
    "name": "ipython",
    "version": 3
   },
   "file_extension": ".py",
   "mimetype": "text/x-python",
   "name": "python",
   "nbconvert_exporter": "python",
   "pygments_lexer": "ipython3",
   "version": "3.6.9"
  },
  "rise": {
   "scroll": true,
   "theme": "serif",
   "transition": "zoom"
  },
  "varInspector": {
   "cols": {
    "lenName": 16,
    "lenType": 16,
    "lenVar": 40
   },
   "kernels_config": {
    "python": {
     "delete_cmd_postfix": "",
     "delete_cmd_prefix": "del ",
     "library": "var_list.py",
     "varRefreshCmd": "print(var_dic_list())"
    },
    "r": {
     "delete_cmd_postfix": ") ",
     "delete_cmd_prefix": "rm(",
     "library": "var_list.r",
     "varRefreshCmd": "cat(var_dic_list()) "
    }
   },
   "types_to_exclude": [
    "module",
    "function",
    "builtin_function_or_method",
    "instance",
    "_Feature"
   ],
   "window_display": false
  }
 },
 "nbformat": 4,
 "nbformat_minor": 5
}
