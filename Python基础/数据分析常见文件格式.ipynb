{
 "cells": [
  {
   "cell_type": "markdown",
   "id": "8aad88cf",
   "metadata": {
    "slideshow": {
     "slide_type": "slide"
    }
   },
   "source": [
    "## 文件格式\n",
    "文件的格式表明了文件中存储的信息的编码方式，如是二进制文件还是文本文件？信息的组织形式是什么？\n",
    "\n",
    "文件格式一般与文件后缀名（即文件名中”.“点后面的部分，如ReadMe.md, ReadMe.txt中.md和.txt分别是两个文件的后缀名。\n",
    "\n",
    "### 常见数据文件格式\n",
    "- Comma-separated values (CSV)\n",
    "- XLSX\n",
    "- ZIP\n",
    "- Plain Text (txt)\n",
    "- JSON\n",
    "- XML\n",
    "- HTML\n",
    "- Image\n",
    "- ..."
   ]
  },
  {
   "cell_type": "markdown",
   "id": "3a2f93be",
   "metadata": {
    "slideshow": {
     "slide_type": "slide"
    }
   },
   "source": [
    "## CSV、JSON以及XML文件格式实例\n",
    "<img src='./images/csv-json-xml.png'></img>"
   ]
  },
  {
   "cell_type": "markdown",
   "id": "b83e9831",
   "metadata": {
    "slideshow": {
     "slide_type": "slide"
    }
   },
   "source": [
    "## 纯文本文档的读写\n"
   ]
  },
  {
   "cell_type": "markdown",
   "id": "40510458",
   "metadata": {
    "slideshow": {
     "slide_type": "subslide"
    }
   },
   "source": []
  },
  {
   "cell_type": "code",
   "execution_count": 17,
   "id": "aa96145b",
   "metadata": {
    "scrolled": true,
    "slideshow": {
     "slide_type": "subslide"
    }
   },
   "outputs": [
    {
     "ename": "UnsupportedOperation",
     "evalue": "not readable",
     "output_type": "error",
     "traceback": [
      "\u001b[0;31m---------------------------------------------------------------------------\u001b[0m",
      "\u001b[0;31mUnsupportedOperation\u001b[0m                      Traceback (most recent call last)",
      "\u001b[0;32m<ipython-input-17-8df46ec897a0>\u001b[0m in \u001b[0;36m<module>\u001b[0;34m\u001b[0m\n\u001b[1;32m      1\u001b[0m \u001b[0;31m# 打开一个不存在的文件，并试图读取其中的信息\u001b[0m\u001b[0;34m\u001b[0m\u001b[0;34m\u001b[0m\u001b[0;34m\u001b[0m\u001b[0m\n\u001b[1;32m      2\u001b[0m \u001b[0;32mwith\u001b[0m \u001b[0mopen\u001b[0m\u001b[0;34m(\u001b[0m\u001b[0;34m'./data/test.txt'\u001b[0m\u001b[0;34m,\u001b[0m \u001b[0;34m'w'\u001b[0m\u001b[0;34m,\u001b[0m \u001b[0mencoding\u001b[0m\u001b[0;34m=\u001b[0m\u001b[0;34m'utf-8'\u001b[0m\u001b[0;34m)\u001b[0m \u001b[0;32mas\u001b[0m \u001b[0mf\u001b[0m\u001b[0;34m:\u001b[0m\u001b[0;34m\u001b[0m\u001b[0;34m\u001b[0m\u001b[0m\n\u001b[0;32m----> 3\u001b[0;31m     \u001b[0mtext\u001b[0m \u001b[0;34m=\u001b[0m \u001b[0mf\u001b[0m\u001b[0;34m.\u001b[0m\u001b[0mread\u001b[0m\u001b[0;34m(\u001b[0m\u001b[0;34m)\u001b[0m\u001b[0;34m\u001b[0m\u001b[0;34m\u001b[0m\u001b[0m\n\u001b[0m\u001b[1;32m      4\u001b[0m \u001b[0mprint\u001b[0m\u001b[0;34m(\u001b[0m\u001b[0mtext\u001b[0m\u001b[0;34m)\u001b[0m\u001b[0;34m\u001b[0m\u001b[0;34m\u001b[0m\u001b[0m\n",
      "\u001b[0;31mUnsupportedOperation\u001b[0m: not readable"
     ]
    }
   ],
   "source": [
    "# 打开一个不存在的文件，并试图读取其中的信息\n",
    "with open('./data/test.txt', 'w', encoding='utf-8') as f:\n",
    "    text = f.read()\n",
    "print(text)"
   ]
  },
  {
   "cell_type": "markdown",
   "id": "57e8c1fe",
   "metadata": {
    "slideshow": {
     "slide_type": "slide"
    }
   },
   "source": [
    "## CSV格式文件\n",
    "\n",
    "CSV是英文Comma Separate Values（逗号分隔值）的缩写。文档的内容是由 “,” 分隔的一列列的数据构成的。"
   ]
  },
  {
   "cell_type": "code",
   "execution_count": 26,
   "id": "fa9ac525",
   "metadata": {
    "scrolled": true
   },
   "outputs": [
    {
     "name": "stdout",
     "output_type": "stream",
     "text": [
      "列名： 学号, 姓名, 学院, 生日\n",
      "\t张三 的学号是 0001 在 历史 学院, 生日在 11 月.\n",
      "\t李四 的学号是 0002 在 计算机 学院, 生日在 5 月.\n",
      "\t王五 的学号是 0003 在 文学 学院, 生日在 12 月.\n",
      "\t赵六 的学号是 0004 在 哲学 学院, 生日在 4 月.\n",
      "\t王五 的学号是 0003 在 文学 学院, 生日在 12 月.\n",
      "\t赵六 的学号是 0004 在 哲学 学院, 生日在 4 月.\n",
      "已经处理 7 行.\n"
     ]
    }
   ],
   "source": [
    "import csv\n",
    "\n",
    "with open('./data/students.csv') as csv_file:\n",
    "    csv_reader = csv.reader(csv_file, delimiter=',')\n",
    "    '''a = list(csv_reader)\n",
    "    print(a[0])\n",
    "    print(a[1][1])'''\n",
    "    line_count = 0\n",
    "    for row in csv_reader:\n",
    "        if line_count == 0:\n",
    "            print(f'列名： {\", \".join(row)}')\n",
    "            line_count += 1\n",
    "        else:\n",
    "            print(f'\\t{row[1]} 的学号是 {row[0]} 在 {row[2]} 学院, 生日在 {row[3]} 月.')\n",
    "            line_count += 1\n",
    "    print(f'已经处理 {line_count} 行.')"
   ]
  },
  {
   "cell_type": "code",
   "execution_count": 27,
   "id": "28880c1f",
   "metadata": {},
   "outputs": [],
   "source": [
    "with open('./data/students.csv', 'a') as student_file:\n",
    "    student_writer = csv.writer(student_file, delimiter=',', quotechar='\"', quoting=csv.QUOTE_MINIMAL)\n",
    "\n",
    "    student_writer.writerow(['0003', '王五', '文学', '12'])\n",
    "    student_writer.writerow(['0004', '赵六', '哲学', '4'])"
   ]
  },
  {
   "cell_type": "markdown",
   "id": "653198f3",
   "metadata": {
    "slideshow": {
     "slide_type": "slide"
    }
   },
   "source": [
    "## JSON格式文件\n",
    "JSON文件是一种重要的数据存储和交换格式\n",
    "- 文本文件\n",
    "- 与dict类型关系紧密\n",
    "- Python有内置的包（json）操作JSON数据\n",
    "\n",
    "### json操作函数\n",
    "- json.dumps：将Python对象编码成JSON字符串\n",
    "- json.loads：将已编码的JSON字符串解码为Python对象"
   ]
  },
  {
   "cell_type": "markdown",
   "id": "4403224a",
   "metadata": {
    "slideshow": {
     "slide_type": "subslide"
    }
   },
   "source": [
    "### Python读取JSON数据\n",
    "\n",
    "#### JSON字串 $\\rightarrow$ Dict数据"
   ]
  },
  {
   "cell_type": "code",
   "execution_count": 28,
   "id": "45cd94f6",
   "metadata": {
    "slideshow": {
     "slide_type": "-"
    }
   },
   "outputs": [
    {
     "name": "stdout",
     "output_type": "stream",
     "text": [
      "<class 'dict'>\n",
      "姓名: 张三\n",
      "年龄: 30\n",
      "所在城市: 西安\n"
     ]
    }
   ],
   "source": [
    "import json\n",
    "\n",
    "# JSON字符串\n",
    "x =  '{ \"name\":\"张三\", \"age\":30, \"city\":\"西安\"}'\n",
    "\n",
    "# 解析JSON字符串\n",
    "y = json.loads(x)\n",
    "\n",
    "print(type(y))\n",
    "\n",
    "# JSON加载之后保存的数据类型是一个Python dictionary\n",
    "print(f\"姓名: {y['name']}\")\n",
    "print(f\"年龄: {y['age']}\")\n",
    "print(f\"所在城市: {y['city']}\")"
   ]
  },
  {
   "cell_type": "markdown",
   "id": "c66bba89",
   "metadata": {
    "slideshow": {
     "slide_type": "subslide"
    }
   },
   "source": [
    "#### Dict数据 $\\rightarrow$ JSON字串"
   ]
  },
  {
   "cell_type": "code",
   "execution_count": 15,
   "id": "34754054",
   "metadata": {
    "slideshow": {
     "slide_type": "-"
    }
   },
   "outputs": [
    {
     "name": "stdout",
     "output_type": "stream",
     "text": [
      "{\"name\": \"\\u5f20\\u4e09\", \"age\": 30, \"city\": \"\\u897f\\u5b89\"}\n",
      "{\"name\": \"张三\", \"age\": 30, \"city\": \"西安\"}\n"
     ]
    }
   ],
   "source": [
    "import json\n",
    "\n",
    "# 字典数据\n",
    "x = {\n",
    "  \"name\": \"张三\",\n",
    "  \"age\": 30,\n",
    "  \"city\": \"西安\"\n",
    "}\n",
    "\n",
    "# 转换为JSON\n",
    "y = json.dumps(x)\n",
    "print(y)\n",
    "\n",
    "y = json.dumps(x, ensure_ascii=False) # 为避免乱码加上第二个参数ensure_ascii\n",
    "print(y)"
   ]
  },
  {
   "cell_type": "code",
   "execution_count": 17,
   "id": "aabe5d94",
   "metadata": {
    "slideshow": {
     "slide_type": "-"
    }
   },
   "outputs": [
    {
     "name": "stdout",
     "output_type": "stream",
     "text": [
      "[{\"a\": 1, \"b\": 2, \"c\": 3, \"d\": 4, \"e\": 5}]\n",
      "<class 'str'>\n"
     ]
    }
   ],
   "source": [
    "\n",
    "data = [ { 'a' : 1, 'b' : 2, 'c' : 3, 'd' : 4, 'e' : 5 } ]\n",
    "\n",
    "data2 = json.dumps(data)\n",
    "print(data2)\n",
    "print(type(data2))"
   ]
  },
  {
   "cell_type": "code",
   "execution_count": 18,
   "id": "9383610e",
   "metadata": {
    "slideshow": {
     "slide_type": "-"
    }
   },
   "outputs": [
    {
     "name": "stdout",
     "output_type": "stream",
     "text": [
      "{\n",
      "    \"a\": \"Runoob\",\n",
      "    \"b\": 7\n",
      "}\n"
     ]
    }
   ],
   "source": [
    "data = [ { 'a' : 1, 'b' : 2, 'c' : 3, 'd' : 4, 'e' : 5 } ]\n",
    "\n",
    "data2 = json.dumps({'a': 'Runoob', 'b': 7}, sort_keys=True, indent=4, separators=(',', ': '))\n",
    "print(data2)"
   ]
  },
  {
   "cell_type": "markdown",
   "id": "2667c54e",
   "metadata": {
    "slideshow": {
     "slide_type": "subslide"
    }
   },
   "source": [
    "## python 原始类型向 json 类型的转化对照表：\n",
    "|Python|JSON| \n",
    "| ---- | ---- | \n",
    "|dict|object|\n",
    "|list, tuple|array|\n",
    "|str, unicode|string|\n",
    "|int, long, float|number|\n",
    "|True|true|\n",
    "|False|false|"
   ]
  },
  {
   "cell_type": "markdown",
   "id": "9c044b13",
   "metadata": {},
   "source": [
    "## 读写JSON 文件\n"
   ]
  },
  {
   "cell_type": "markdown",
   "id": "ad294705",
   "metadata": {},
   "source": [
    "## 将字典数据写入JSON文件保存"
   ]
  },
  {
   "cell_type": "code",
   "execution_count": 29,
   "id": "8efe8acc",
   "metadata": {},
   "outputs": [],
   "source": [
    "# 字典数据\n",
    "x = {\n",
    "  \"name\": \"张三\",\n",
    "  \"age\": 30,\n",
    "  \"city\": \"西安\"\n",
    "}\n",
    "\n",
    "# Serializing json 序列化json\n",
    "json_object = json.dumps(x, indent = 4, ensure_ascii=False)\n",
    "  \n",
    "# Writing to sample.json\n",
    "with open(\"./data/x.json\", \"w\") as outfile:\n",
    "    outfile.write(json_object)"
   ]
  },
  {
   "cell_type": "markdown",
   "id": "6e5faab4",
   "metadata": {},
   "source": [
    "##"
   ]
  },
  {
   "cell_type": "code",
   "execution_count": 31,
   "id": "2d304555",
   "metadata": {},
   "outputs": [
    {
     "name": "stdout",
     "output_type": "stream",
     "text": [
      "[{'a': 1, 'b': 2, 'c': 3, 'd': 4, 'e': 5}, {'a': 3, 'b': 5, 'c': 7, 'd': 8, 'e': 9}]\n",
      "<class 'list'>\n",
      "<class 'dict'>\n"
     ]
    }
   ],
   "source": [
    "# Opening JSON file\n",
    "with open('./data/data2.json', 'r') as openfile:\n",
    "  \n",
    "    # Reading from json file\n",
    "    json_object = json.load(openfile)\n",
    "  \n",
    "print(json_object)\n",
    "print(type(json_object))\n",
    "print(type(json_object[0]))"
   ]
  },
  {
   "cell_type": "code",
   "execution_count": 29,
   "id": "6dd4390d",
   "metadata": {},
   "outputs": [],
   "source": [
    "data2 = [ { 'a' : 1, 'b' : 2, 'c' : 3, 'd' : 4, 'e' : 5 }, { 'a' : 3, 'b' : 5, 'c' : 7, 'd' : 8, 'e' : 9 }  ]\n",
    "# Serializing json 序列化json\n",
    "json_object = json.dumps(data2, indent = 4, ensure_ascii=False)\n",
    "  \n",
    "# Writing to sample.json\n",
    "with open(\"./data/data2.json\", \"w\") as outfile:\n",
    "    outfile.write(json_object)"
   ]
  },
  {
   "cell_type": "markdown",
   "id": "a90eeb11",
   "metadata": {
    "slideshow": {
     "slide_type": "slide"
    }
   },
   "source": [
    "## 图片文件"
   ]
  },
  {
   "cell_type": "markdown",
   "id": "b9b13ca3",
   "metadata": {
    "slideshow": {
     "slide_type": "slide"
    }
   },
   "source": [
    "## PDF文件\n",
    "PDF (Portable Document Format) "
   ]
  },
  {
   "cell_type": "code",
   "execution_count": 15,
   "id": "8abc2717",
   "metadata": {
    "scrolled": true,
    "slideshow": {
     "slide_type": "slide"
    }
   },
   "outputs": [
    {
     "data": {
      "text/html": [
       "\n",
       "        <iframe\n",
       "            width=\"800\"\n",
       "            height=\"800\"\n",
       "            src=\"./data/[康熙]洋縣志八卷-卷一.pdf\"\n",
       "            frameborder=\"0\"\n",
       "            allowfullscreen\n",
       "        ></iframe>\n",
       "        "
      ],
      "text/plain": [
       "<IPython.lib.display.IFrame at 0x7efb72853f50>"
      ]
     },
     "execution_count": 15,
     "metadata": {},
     "output_type": "execute_result"
    }
   ],
   "source": [
    "from IPython.display import IFrame\n",
    "IFrame(\"./data/[康熙]洋縣志八卷-卷一.pdf\", width=800, height=800)"
   ]
  },
  {
   "cell_type": "code",
   "execution_count": null,
   "id": "a9247ccf",
   "metadata": {},
   "outputs": [
    {
     "name": "stdout",
     "output_type": "stream",
     "text": [
      "Collecting pip\n",
      "  Downloading https://mirrors.aliyun.com/pypi/packages/27/79/8a850fe3496446ff0d584327ae44e7500daf6764ca1a382d2d02789accf7/pip-20.3.4-py2.py3-none-any.whl (1.5MB)\n",
      "\u001b[K    100% |████████████████████████████████| 1.5MB 10.1MB/s ta 0:00:011\n",
      "\u001b[?25hInstalling collected packages: pip\n",
      "Successfully installed pip-20.3.4\n"
     ]
    }
   ],
   "source": [
    "!python -m pip install --upgrade pip\n",
    "!python -m pip install --upgrade pymupdf"
   ]
  },
  {
   "cell_type": "code",
   "execution_count": 12,
   "id": "7bd3057f",
   "metadata": {
    "slideshow": {
     "slide_type": "slide"
    }
   },
   "outputs": [
    {
     "name": "stdout",
     "output_type": "stream",
     "text": [
      "143\n"
     ]
    }
   ],
   "source": [
    "## 将pdf中的一页转换为图片，并保存到文件夹中\n",
    "import fitz\n",
    "from tqdm import tqdm\n",
    "import cv2\n",
    "target_dir = './data/pdf-images'\n",
    "zoom = 2\n",
    "mat = fitz.Matrix(zoom, zoom)\n",
    "doc = fitz.open('./data/[康熙]洋縣志八卷-卷一.pdf')\n",
    "page_count = doc.page_count\n",
    "print(page_count)\n",
    "i = 1\n",
    "page = doc[2]\n",
    "pix = page.getPixmap(matrix = mat)\n",
    "pix.save(f\"{target_dir}/0003.jpg\")\n"
   ]
  },
  {
   "cell_type": "code",
   "execution_count": 31,
   "id": "20d2919d",
   "metadata": {},
   "outputs": [
    {
     "data": {
      "text/plain": [
       "34370465"
      ]
     },
     "execution_count": 31,
     "metadata": {},
     "output_type": "execute_result"
    }
   ],
   "source": [
    "import os\n",
    "os.path.getsize('./data/[康熙]洋縣志八卷-卷一.pdf') "
   ]
  },
  {
   "cell_type": "markdown",
   "id": "371f471b",
   "metadata": {
    "slideshow": {
     "slide_type": "slide"
    }
   },
   "source": [
    "## 本周作业\n",
    "### 作业内容\n",
    "1. 熟悉json、csv文件的读写操作；\n",
    "2. 根据上面的pdf中提取页面保存为图片的介绍，将一个pdf文件中的页面转换为图片（jpg或png格式）并保存到目录中\n",
    "- 编写实现该功能的函数，参数1为pdf文件的位置，参数2为图片存放的路径\n",
    "    - 定义函数示例： def pdf2images(pdf, img_dir):\n",
    "    - 调用函数：pdf2images('./data/[康熙]洋縣志八卷-卷一.pdf', './data/pdf-images')\n",
    "    - 无需返回值\n",
    "    - 【可选】执行过程中可以输出处理的信息，比如处理完一页，输出相应信息\"已经保存了第xx页”\n",
    "- 图片文件命名方式：第一页为0001.jpg，第二页为0002.jpg，以此类推\n",
    "- pdf文件位置：'./data/[康熙]洋縣志八卷-卷一.pdf'\n",
    "- png/jpg文件存放目录：'./data/pdf-images/'\n",
    "    - 请在代码中创建该目录，无需手动创建该目录\n",
    "- 将图片文件信息保存在一个csv文件中，生成的csv文件与ipynb文件同目录\n",
    "    - csv文件表头：文件名,文件大小\n",
    "    - csv文件内容示例：\n",
    "            文件名,文件大小\n",
    "            0001.jpg,322120\n",
    "            0002.jpg,423156\n",
    "            \n",
    "    - python查询文件大小信息可参考，或者自行检索实现\n",
    "    ```python\n",
    "    os.path.getsize('./data/pdf-images/0001.jpg') \n",
    "    ```\n",
    "    \n",
    "### 作业要求\n",
    "1. 小组共同完成一份ipynb即可\n",
    "2. ipynb文件与data在同一目录（data目录无需提交，测试机器上有data目录以及pdf文件）\n",
    "3. 小组为单位提交，提交文件名：小组名-组长-pdf2images.ipynb\n",
    "4. 提交时间：11月14日20:00\n"
   ]
  },
  {
   "cell_type": "code",
   "execution_count": null,
   "id": "20047cb9",
   "metadata": {},
   "outputs": [],
   "source": []
  }
 ],
 "metadata": {
  "celltoolbar": "幻灯片",
  "kernelspec": {
   "display_name": "Python (keras-ocr)",
   "language": "python",
   "name": "keras-ocr"
  },
  "language_info": {
   "codemirror_mode": {
    "name": "ipython",
    "version": 3
   },
   "file_extension": ".py",
   "mimetype": "text/x-python",
   "name": "python",
   "nbconvert_exporter": "python",
   "pygments_lexer": "ipython3",
   "version": "3.7.9"
  },
  "rise": {
   "scroll": true,
   "theme": "serif",
   "transition": "zoom"
  },
  "varInspector": {
   "cols": {
    "lenName": 16,
    "lenType": 16,
    "lenVar": 40
   },
   "kernels_config": {
    "python": {
     "delete_cmd_postfix": "",
     "delete_cmd_prefix": "del ",
     "library": "var_list.py",
     "varRefreshCmd": "print(var_dic_list())"
    },
    "r": {
     "delete_cmd_postfix": ") ",
     "delete_cmd_prefix": "rm(",
     "library": "var_list.r",
     "varRefreshCmd": "cat(var_dic_list()) "
    }
   },
   "types_to_exclude": [
    "module",
    "function",
    "builtin_function_or_method",
    "instance",
    "_Feature"
   ],
   "window_display": false
  }
 },
 "nbformat": 4,
 "nbformat_minor": 5
}
